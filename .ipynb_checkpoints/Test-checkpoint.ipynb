{
 "metadata": {
  "name": "",
  "signature": "sha256:33abb4114fc78000025d0eef882a8d69565e1dfb5f59ce442881468aacf41c92"
 },
 "nbformat": 3,
 "nbformat_minor": 0,
 "worksheets": []
}