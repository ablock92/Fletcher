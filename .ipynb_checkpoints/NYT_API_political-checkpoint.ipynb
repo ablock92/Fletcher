{
 "metadata": {
  "name": "",
  "signature": "sha256:ddf44f8c50d8492c1f19b2647b3e20b748710c2d19139999b7d493d6d4e30169"
 },
 "nbformat": 3,
 "nbformat_minor": 0,
 "worksheets": [
  {
   "cells": [
    {
     "cell_type": "code",
     "collapsed": false,
     "input": [
      "import nytimesarticle\n",
      "api = nytimesarticle.articleAPI('07bd04ca3e91ae6175c44e66a867e86b:6:70005647')\n"
     ],
     "language": "python",
     "metadata": {},
     "outputs": [],
     "prompt_number": 1
    },
    {
     "cell_type": "markdown",
     "metadata": {},
     "source": [
      "{u'copyright': u'Copyright (c) 2013 The New York Times Company.  All Rights Reserved.',\n",
      " u'errors': [u'Parameter <fl> value failed to match validation rule:: <</^(web_url|snippet|lead_paragraph|abstract|print_page|blog|source|multimedia|headline|keywords|pub_date|document_type|news_desk|section_name|byline|word_count|type_of_material|_id)(,(web_url|snippet|lead_paragraph|abstract|print_page|blog|source|multimedia|headline|keywords|pub_date|document_type|news_desk|section_name|byline|word_count|type_of_material|_id))*$/>>'],\n",
      " u'results': [],\n",
      " u'status': u'ERROR'}"
     ]
    },
    {
     "cell_type": "code",
     "collapsed": false,
     "input": [
      "pages_allowed = 100\n",
      "articles_per_page = 10\n",
      "\n",
      "initial_articles = api.search(fq = 'subsection_name:(\"Politics\")')\n",
      "hits = initial_articles['response']['meta']['hits']"
     ],
     "language": "python",
     "metadata": {},
     "outputs": [],
     "prompt_number": 39
    },
    {
     "cell_type": "code",
     "collapsed": false,
     "input": [
      "articles = 0\n",
      "while articles < hits:\n",
      "    for page in range(pages)\n",
      "    \n",
      "    \n",
      "    articles+=pages_allowed*articles_per_page"
     ],
     "language": "python",
     "metadata": {},
     "outputs": [
      {
       "metadata": {},
       "output_type": "pyout",
       "prompt_number": 38,
       "text": [
        "23962"
       ]
      }
     ],
     "prompt_number": 38
    },
    {
     "cell_type": "code",
     "collapsed": false,
     "input": [
      "print len(articles['response']['docs'])\n",
      "\n",
      "articles['response']['docs'][9]"
     ],
     "language": "python",
     "metadata": {},
     "outputs": [
      {
       "output_type": "stream",
       "stream": "stdout",
       "text": [
        "10\n"
       ]
      },
      {
       "metadata": {},
       "output_type": "pyout",
       "prompt_number": 19,
       "text": [
        "{u'headline': {u'content_kicker': u'Campaign Finance',\n",
        "  u'kicker': u'The Upshot',\n",
        "  u'main': u'Senate Races: Where Outside Groups Spend Their Money',\n",
        "  u'print_headline': u'What Outside Money Is Buying in Senate Races'},\n",
        " u'news_desk': u'Business'}"
       ]
      }
     ],
     "prompt_number": 19
    },
    {
     "cell_type": "code",
     "collapsed": false,
     "input": [
      "articles['response']['meta']\n"
     ],
     "language": "python",
     "metadata": {},
     "outputs": [
      {
       "metadata": {},
       "output_type": "pyout",
       "prompt_number": 22,
       "text": [
        "{u'hits': 229, u'offset': 0, u'time': 48}"
       ]
      }
     ],
     "prompt_number": 22
    }
   ],
   "metadata": {}
  }
 ]
}