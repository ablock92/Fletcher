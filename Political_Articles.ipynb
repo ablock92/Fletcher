{
 "metadata": {
  "name": "",
  "signature": "sha256:8fdae9d1f927a969b1128e70f5c81cdc04375e888aaf41242bf3777afd6b0e40"
 },
 "nbformat": 3,
 "nbformat_minor": 0,
 "worksheets": [
  {
   "cells": [
    {
     "cell_type": "code",
     "collapsed": false,
     "input": [
      "%matplotlib inline\n",
      "import matplotlib.pyplot as plt\n",
      "import datetime\n",
      "from pymongo import MongoClient\n",
      "import dateutil.parser"
     ],
     "language": "python",
     "metadata": {},
     "outputs": [],
     "prompt_number": 31
    },
    {
     "cell_type": "code",
     "collapsed": false,
     "input": [
      "client = MongoClient('mongodb://localhost:27017/')\n",
      "\n",
      "db = client.Fletcher_db\n",
      "collection = db.political_articles"
     ],
     "language": "python",
     "metadata": {},
     "outputs": [],
     "prompt_number": 3
    },
    {
     "cell_type": "code",
     "collapsed": false,
     "input": [
      "def format_date(date):\n",
      "    date = date.split('T')[0]\n",
      "    return date"
     ],
     "language": "python",
     "metadata": {},
     "outputs": [],
     "prompt_number": 4
    },
    {
     "cell_type": "code",
     "collapsed": false,
     "input": [
      "cursor = collection.find()\n",
      "dates = []\n",
      "for article in cursor:\n",
      "    date = format_date(article['pub_date'])\n",
      "    dates.append( dateutil.parser.parse(date) )"
     ],
     "language": "python",
     "metadata": {},
     "outputs": [],
     "prompt_number": 32
    },
    {
     "cell_type": "code",
     "collapsed": false,
     "input": [
      "years = []\n",
      "for d in dates:\n",
      "    years.append(d.month)"
     ],
     "language": "python",
     "metadata": {},
     "outputs": [],
     "prompt_number": 75
    },
    {
     "cell_type": "code",
     "collapsed": false,
     "input": [
      "year_dict = dict(zip(years,map(years.count,years)))"
     ],
     "language": "python",
     "metadata": {},
     "outputs": [],
     "prompt_number": 76
    },
    {
     "cell_type": "code",
     "collapsed": false,
     "input": [
      "xs=[]\n",
      "ys=[]\n",
      "for y in year_dict.keys():\n",
      "    ys.append(y)\n",
      "    xs.append(year_dict[y])"
     ],
     "language": "python",
     "metadata": {},
     "outputs": [],
     "prompt_number": 77
    },
    {
     "cell_type": "code",
     "collapsed": false,
     "input": [
      "plt.scatter(ys,xs)\n"
     ],
     "language": "python",
     "metadata": {},
     "outputs": [
      {
       "metadata": {},
       "output_type": "pyout",
       "prompt_number": 78,
       "text": [
        "<matplotlib.collections.PathCollection at 0x10b7ca490>"
       ]
      },
      {
       "metadata": {},
       "output_type": "display_data",
       "png": "[encoded data removed]",
       "text": [
        "<matplotlib.figure.Figure at 0x10c4a5910>"
       ]
      }
     ],
     "prompt_number": 78
    },
    {
     "cell_type": "code",
     "collapsed": false,
     "input": [
      "year_dict"
     ],
     "language": "python",
     "metadata": {},
     "outputs": [
      {
       "metadata": {},
       "output_type": "pyout",
       "prompt_number": 74,
       "text": [
        "{1: 2240,\n",
        " 2: 1707,\n",
        " 3: 1779,\n",
        " 4: 1824,\n",
        " 5: 2319,\n",
        " 6: 2754,\n",
        " 7: 2459,\n",
        " 8: 2269,\n",
        " 9: 2505,\n",
        " 10: 1754,\n",
        " 11: 993,\n",
        " 12: 1345}"
       ]
      }
     ],
     "prompt_number": 74
    },
    {
     "cell_type": "code",
     "collapsed": false,
     "input": [],
     "language": "python",
     "metadata": {},
     "outputs": []
    }
   ],
   "metadata": {}
  }
 ]
}