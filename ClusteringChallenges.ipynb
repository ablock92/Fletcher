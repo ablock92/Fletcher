{
 "metadata": {
  "name": "",
  "signature": "sha256:d0135931c561a192476163e8f2cd051e64fe2a63d778374aba60068e1883a647"
 },
 "nbformat": 3,
 "nbformat_minor": 0,
 "worksheets": [
  {
   "cells": [
    {
     "cell_type": "code",
     "collapsed": false,
     "input": [
      "%matplotlib inline\n",
      "import matplotlib.pyplot as plt\n",
      "\n",
      "from pymongo import MongoClient\n",
      "\n",
      "from collections import defaultdict\n",
      "import operator\n",
      "\n",
      "from sklearn.feature_extraction.text import TfidfVectorizer\n",
      "from sklearn.cluster import MiniBatchKMeans,KMeans\n",
      "from sklearn.metrics import pairwise_distances\n",
      "\n",
      "from nltk.tokenize import word_tokenize\n",
      "from nltk.tag import pos_tag\n",
      "from nltk.corpus import stopwords\n",
      "from nltk.chunk import ne_chunk\n",
      "\n",
      "\n",
      "from textblob import TextBlob"
     ],
     "language": "python",
     "metadata": {},
     "outputs": [],
     "prompt_number": 1
    },
    {
     "cell_type": "code",
     "collapsed": false,
     "input": [
      "client = MongoClient('mongodb://localhost:27017/')\n",
      "db = client.Fletcher_db\n",
      "collection = db.presidential_articles"
     ],
     "language": "python",
     "metadata": {},
     "outputs": [],
     "prompt_number": 2
    },
    {
     "cell_type": "code",
     "collapsed": false,
     "input": [
      "articles = []\n",
      "cursor = collection.find()\n",
      "for c in cursor:\n",
      "    articles.append(c)"
     ],
     "language": "python",
     "metadata": {},
     "outputs": [],
     "prompt_number": 3
    },
    {
     "cell_type": "code",
     "collapsed": false,
     "input": [
      "articles_1000 = articles[:1000]"
     ],
     "language": "python",
     "metadata": {},
     "outputs": [],
     "prompt_number": 4
    },
    {
     "cell_type": "code",
     "collapsed": false,
     "input": [
      "headlines = []\n",
      "for a in articles_1000:\n",
      "    headlines.append(a['headline']['main'])"
     ],
     "language": "python",
     "metadata": {},
     "outputs": [],
     "prompt_number": 5
    },
    {
     "cell_type": "markdown",
     "metadata": {},
     "source": [
      "##Challenge 1\n",
      "\n",
      "Cluster sentences with K-means. If you have your own Fletcher test data, get sentences out and cluster them. If not, cluster the tweets you gathered during the Twitter API challenge. For each cluster, print out the sentences, try to see how close the sentences are. Try different K values and try to find a K value that makes the most sense (the sentences look like they do form a meaningful cluster).\n",
      "\n",
      "How do you deal with retweets if you're clustering tweets?"
     ]
    },
    {
     "cell_type": "code",
     "collapsed": false,
     "input": [
      "vectorizer = TfidfVectorizer(stop_words=\"english\", ngram_range=(1,2))\n",
      "headlines_vectors = vectorizer.fit_transform(headlines)"
     ],
     "language": "python",
     "metadata": {},
     "outputs": [],
     "prompt_number": 6
    },
    {
     "cell_type": "code",
     "collapsed": false,
     "input": [
      "num_clusters = 5\n",
      "k_means = KMeans(n_clusters=num_clusters)\n",
      "clusters = k_means.fit_predict(headlines_vectors)"
     ],
     "language": "python",
     "metadata": {},
     "outputs": [],
     "prompt_number": 7
    },
    {
     "cell_type": "code",
     "collapsed": false,
     "input": [
      "cluster_dict = defaultdict(list)\n",
      "for i,h in enumerate(headlines):\n",
      "    cluster_dict[clusters[i]].append(h)"
     ],
     "language": "python",
     "metadata": {},
     "outputs": [],
     "prompt_number": 8
    },
    {
     "cell_type": "markdown",
     "metadata": {},
     "source": [
      "##Challenge 2\n",
      "\n",
      "Draw the inertia curve over different k values. (Sklearn KMeans class has an inertia_ attribute)"
     ]
    },
    {
     "cell_type": "code",
     "collapsed": false,
     "input": [
      "inertia = []\n",
      "for n_clusters in range(1,20):\n",
      "    k_means = KMeans(n_clusters=n_clusters)\n",
      "    clusters = k_means.fit_predict(headlines_vectors)\n",
      "    inertia.append(k_means.inertia_)"
     ],
     "language": "python",
     "metadata": {},
     "outputs": [],
     "prompt_number": 14
    },
    {
     "cell_type": "code",
     "collapsed": false,
     "input": [
      "plt.plot(range(1,20),inertia)"
     ],
     "language": "python",
     "metadata": {},
     "outputs": [
      {
       "metadata": {},
       "output_type": "pyout",
       "prompt_number": 15,
       "text": [
        "[<matplotlib.lines.Line2D at 0x15c41ed50>]"
       ]
      },
      {
       "metadata": {},
       "output_type": "display_data",
       "png": "[encoded data removed]",
       "text": [
        "<matplotlib.figure.Figure at 0x15c414390>"
       ]
      }
     ],
     "prompt_number": 15
    },
    {
     "cell_type": "markdown",
     "metadata": {},
     "source": [
      "##Challenge 3\n",
      "\n",
      "Let's name the clusters 1\n",
      "For each cluster, find the sentence closest to the centroid of the (You can learn sklearn.metrics.pairwise_distances or scipy.spatial.distance (check pdist, cdist, and euclidean distance) to find distances to the centroid. KMeans has a cluster_centroids_ attribute. This sentence (closest to centroid) is now the name of the cluster. For each cluster, print the representative sentence, and print 'N people expressed a similar statement', or something like that relevant to your dataset. (This is very close to what amazon used to do in the reviews section up to a year ago.)\n",
      "\n",
      "Find the biggest 3 clusters, and print their representative sentences (This is close to what amazon is doing now in the reviews section, except they choose the sentence from the most helpful review instead of closest to center)"
     ]
    },
    {
     "cell_type": "code",
     "collapsed": false,
     "input": [
      "vectorizer = TfidfVectorizer(stop_words='english',ngram_range=(1,2))\n",
      "headlines_vectors = vectorizer.fit_transform(headlines)\n",
      "num_clusters = 10\n",
      "k_means = KMeans(n_clusters=num_clusters)\n",
      "clusters = k_means.fit_predict(headlines_vectors)"
     ],
     "language": "python",
     "metadata": {},
     "outputs": [],
     "prompt_number": 11
    },
    {
     "cell_type": "code",
     "collapsed": false,
     "input": [
      "def min_or_not_empty(l1,l2):\n",
      "    if len(l1)==0:\n",
      "        return l2\n",
      "    elif len(l2)==0:\n",
      "        return l1\n",
      "    else:\n",
      "        return min(l1,l2)\n",
      "    "
     ],
     "language": "python",
     "metadata": {},
     "outputs": [],
     "prompt_number": 12
    },
    {
     "cell_type": "code",
     "collapsed": false,
     "input": [
      "cluster_centers = k_means.cluster_centers_\n",
      "c_dict = defaultdict(tuple) # (min_dist,index)\n",
      "for i,c in enumerate(clusters):\n",
      "    c_dict[c] = min_or_not_empty(c_dict[c],(float(pairwise_distances(headlines_vectors[i],cluster_centers[c])),i))\n"
     ],
     "language": "python",
     "metadata": {},
     "outputs": [],
     "prompt_number": 13
    },
    {
     "cell_type": "code",
     "collapsed": false,
     "input": [
      "for c in range(num_clusters):\n",
      "    print c, headlines[c_dict[c][1]]"
     ],
     "language": "python",
     "metadata": {},
     "outputs": [
      {
       "output_type": "stream",
       "stream": "stdout",
       "text": [
        "0 The I's Have It\n",
        "1 Senate Confirms Geithner as Treasury Secretary\n",
        "2 WHAT'S ON TODAY\n",
        "3 Early Word\n",
        "4 President Obama\n",
        "5 Get Out of the (White) House\n",
        "6 INSIDE THE TIMES: February 9, 2009\n",
        "7 Obama in Canada\n",
        "8 The First 100 Days Edition\n",
        "9 Obama Signs Stimulus Plan\n"
       ]
      }
     ],
     "prompt_number": 14
    },
    {
     "cell_type": "markdown",
     "metadata": {},
     "source": [
      "##Challenge 4\n",
      "\n",
      "Let's name the clusters 2\n",
      "Calculate the tf-idf of each word in each cluster (think of all sentences of a cluster together as a document). Represent each cluster with the top 1, or top 2 or... to 5 tf-idf words. For each cluster, print the name (keywords) of the cluster, and \"N statements\" in the cluster (N is the size of the cluster)"
     ]
    },
    {
     "cell_type": "code",
     "collapsed": false,
     "input": [
      "cluster_dict = defaultdict(list)\n",
      "for i,h in enumerate(headlines):\n",
      "    cluster_dict[clusters[i]].append(h)\n",
      "\n",
      "combined_dict = {}\n",
      "for c in cluster_dict.keys():\n",
      "    combined_dict[c]=' '.join(cluster_dict[c])"
     ],
     "language": "python",
     "metadata": {},
     "outputs": [],
     "prompt_number": 15
    },
    {
     "cell_type": "code",
     "collapsed": false,
     "input": [
      "vectorizer = TfidfVectorizer(stop_words=\"english\", ngram_range=(1,2))\n",
      "cluster_vectors = vectorizer.fit_transform(combined_dict.values())"
     ],
     "language": "python",
     "metadata": {},
     "outputs": [],
     "prompt_number": 16
    },
    {
     "cell_type": "code",
     "collapsed": false,
     "input": [
      "cluster_kws = defaultdict(list)\n",
      "for c in cluster_dict.keys():\n",
      "    indices = cluster_vectors[c].indices\n",
      "    data = cluster_vectors[c].data\n",
      "    for kw_index,tfidf in zip(indices,data):\n",
      "        #kw_index = cluster_vectors[c].indices[i]\n",
      "        cluster_kws[c].append((tfidf,vectorizer.get_feature_names()[kw_index]))\n",
      "    cluster_kws[c]=sorted(cluster_kws[c],reverse=True)"
     ],
     "language": "python",
     "metadata": {},
     "outputs": [],
     "prompt_number": 17
    },
    {
     "cell_type": "code",
     "collapsed": false,
     "input": [
      "for c in cluster_kws.keys():\n",
      "    print c, [kw[1] for kw in cluster_kws[c][:5]]"
     ],
     "language": "python",
     "metadata": {},
     "outputs": [
      {
       "output_type": "stream",
       "stream": "stdout",
       "text": [
        "0 [u'stimulus', u'new', u'money', u'day', u'com']\n",
        "1 [u'senate', u'geithner', u'secretary', u'treasury', u'choice']\n",
        "2 [u'today', u'today today', u'today business', u'business today', u'business']\n",
        "3 [u'word', u'early word', u'early', u'saturday word', u'saturday']\n",
        "4 [u'president obama', u'president', u'obama', u'budget president', u'budget']\n",
        "5 [u'white house', u'white', u'house', u'house white', u'spray']\n",
        "6 [u'inside times', u'2009 inside', u'2009', u'inside', u'times']\n",
        "7 [u'obama', u'stimulus', u'new', u'bush', u'michelle obama']\n",
        "8 [u'days', u'days edition', u'100 days', u'edition', u'100']\n",
        "9 [u'plan', u'obama', u'stimulus plan', u'plan obama', u'bailout plan']\n"
       ]
      }
     ],
     "prompt_number": 18
    },
    {
     "cell_type": "markdown",
     "metadata": {},
     "source": [
      "##Challenge 5\n",
      "\n",
      "Let's name the clusters 3\n",
      "Same as the previous challenge, but this time, calculate tf-idf only for nouns (NN tag) and build keyword(s) with nouns. (This is close to what amazon switched to last year, before settling into the current design). (They would show five nouns, you would click on one and it would show sentences - linked to the reviews- that were related to that noun.)"
     ]
    },
    {
     "cell_type": "code",
     "collapsed": false,
     "input": [
      "cluster_dict = defaultdict(list)\n",
      "for i,h in enumerate(headlines):\n",
      "    cluster_dict[clusters[i]].append(h)\n",
      "    \n",
      "combined_dict={}\n",
      "for c in cluster_dict.keys():\n",
      "    combined_dict[c]=' '.join(cluster_dict[c])"
     ],
     "language": "python",
     "metadata": {},
     "outputs": [],
     "prompt_number": 19
    },
    {
     "cell_type": "code",
     "collapsed": false,
     "input": [
      "vectorizer = TfidfVectorizer(stop_words=\"english\", ngram_range=(1,1))\n",
      "cluster_vectors = vectorizer.fit_transform(combined_dict.values())"
     ],
     "language": "python",
     "metadata": {},
     "outputs": [],
     "prompt_number": 20
    },
    {
     "cell_type": "code",
     "collapsed": false,
     "input": [
      "cluster_kws = defaultdict(list)\n",
      "for c in cluster_dict.keys():\n",
      "    indices = cluster_vectors[c].indices\n",
      "    data = cluster_vectors[c].data\n",
      "    for kw_index,tfidf in zip(indices,data):\n",
      "        kw_name = vectorizer.get_feature_names()[kw_index]\n",
      "        if pos_tag(kw_name)[0][1]=='NN':\n",
      "            cluster_kws[c].append((tfidf,kw_name))\n",
      "    cluster_kws[c]=sorted(cluster_kws[c],reverse=True)"
     ],
     "language": "python",
     "metadata": {},
     "outputs": [],
     "prompt_number": 21
    },
    {
     "cell_type": "code",
     "collapsed": false,
     "input": [
      "for c in cluster_kws.keys():\n",
      "    print c, [kw[1] for kw in cluster_kws[c][:5]]"
     ],
     "language": "python",
     "metadata": {},
     "outputs": [
      {
       "output_type": "stream",
       "stream": "stdout",
       "text": [
        "0 [u'new', u'money', u'day', u'com', u'chief']\n",
        "1 [u'geithner', u'treasury', u'choice', u'voting', u'lukewarm']\n",
        "2 [u'today', u'mr', u'president', u'day']\n",
        "3 [u'word', u'early', u'obama', u'new', u'wreck']\n",
        "4 [u'president', u'obama', u'releases', u'economy', u'day']\n",
        "5 [u'white', u'house', u'revise', u'loosens', u'lawn']\n",
        "6 [u'times', u'february', u'january']\n",
        "7 [u'obama', u'new', u'michelle', u'makes', u'vows']\n",
        "8 [u'days', u'edition', u'msnbc', u'riveting', u'tales']\n",
        "9 [u'plan', u'obama', u'housing', u'withdrawal', u'recovery']\n"
       ]
      }
     ],
     "prompt_number": 22
    },
    {
     "cell_type": "markdown",
     "metadata": {},
     "source": [
      "##Challenge 6\n",
      "\n",
      "Cluster the same data with MiniBatchKMeans. MiniBatchKMeans is a fast way to apply K-means to large data without much loss -- The results are very similar. Instead of using EVERY single point to find the new place of the centroid, MiniBatch just randomly samples a small number (like 100) in the cluster to calculate the new center. Since this is usually very close to the actual center, the algorithm gets there much faster. Try it and compare the results. Example on two-feature data"
     ]
    },
    {
     "cell_type": "code",
     "collapsed": false,
     "input": [
      "vectorizer = TfidfVectorizer(stop_words='english',ngram_range=(1,2))\n",
      "headlines_vectors = vectorizer.fit_transform(headlines)\n",
      "num_clusters = 10\n",
      "mini_k_means = MiniBatchKMeans(n_clusters=num_clusters)\n",
      "clusters = mini_k_means.fit_predict(headlines_vectors)"
     ],
     "language": "python",
     "metadata": {},
     "outputs": [],
     "prompt_number": 23
    },
    {
     "cell_type": "code",
     "collapsed": false,
     "input": [
      "cluster_dict_mini = defaultdict(list)\n",
      "for i,h in enumerate(headlines):\n",
      "    cluster_dict_mini[clusters[i]].append(h)"
     ],
     "language": "python",
     "metadata": {},
     "outputs": [],
     "prompt_number": 24
    },
    {
     "cell_type": "markdown",
     "metadata": {},
     "source": [
      "##Challenge 7\n",
      "\n",
      "Switch the init parameter to \"random\" (instead of the default kmeans++) and plot the inertia curve for each of the n_init values for K-Means: 1, 2, 3, 10 (n_init is the number of different runs to try with different random initializations)"
     ]
    },
    {
     "cell_type": "code",
     "collapsed": false,
     "input": [
      "inertia = []\n",
      "for n_clusters in range(20):\n",
      "    k_means = KMeans(n_clusters=n_clusters,)\n",
      "    clusters = k_means.fit_predict(headlines_vectors)\n",
      "    inertia.append(k_means.inertia_)"
     ],
     "language": "python",
     "metadata": {},
     "outputs": []
    }
   ],
   "metadata": {}
  }
 ]
}