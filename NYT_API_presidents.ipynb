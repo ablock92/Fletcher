{
 "metadata": {
  "name": "",
  "signature": "sha256:e0bbbf22624cf7ed8f5d62567bc6b1d7917f55c3c4fe83e83352f60cdf7e1056"
 },
 "nbformat": 3,
 "nbformat_minor": 0,
 "worksheets": [
  {
   "cells": [
    {
     "cell_type": "code",
     "collapsed": false,
     "input": [
      "import nytimesarticle\n",
      "import time\n",
      "from pymongo import MongoClient\n",
      "\n",
      "import calendar"
     ],
     "language": "python",
     "metadata": {},
     "outputs": [],
     "prompt_number": 7
    },
    {
     "cell_type": "code",
     "collapsed": false,
     "input": [
      "api = nytimesarticle.articleAPI('0c8615edd9bf410ca9d6214a67612425:5:52041455')\n",
      "\n",
      "client = MongoClient('mongodb://localhost:27017/')\n",
      "db = client.Fletcher_db\n",
      "collection = db.presidential_articles"
     ],
     "language": "python",
     "metadata": {},
     "outputs": [],
     "prompt_number": 2
    },
    {
     "cell_type": "code",
     "collapsed": false,
     "input": [
      "def days_in_month(year,month):\n",
      "    return calendar.monthrange(year,month)[1]\n",
      "\n",
      "def str_month(month):\n",
      "    month = str(month)\n",
      "    if len(month)<2:\n",
      "        month = '0'+month\n",
      "    return month"
     ],
     "language": "python",
     "metadata": {},
     "outputs": [],
     "prompt_number": 3
    },
    {
     "cell_type": "code",
     "collapsed": false,
     "input": [
      "months = range(1,13)\n",
      "presidents = {\"Obama \":(2009,2016),\n",
      "              \"Bush2\":(2001,2009),\n",
      "              \"Clinton \":(1993,2001),\n",
      "              \"Bush1\":(1989,1993),\n",
      "              \"Reagan \":(1981,1989)}"
     ],
     "language": "python",
     "metadata": {},
     "outputs": [],
     "prompt_number": 4
    },
    {
     "cell_type": "code",
     "collapsed": false,
     "input": [
      "query_list = []\n",
      "\n",
      "for president in presidents.keys():\n",
      "    for year in range(presidents[president][0],presidents[president][1]):\n",
      "        if president==\"Obama \" and year==2015:\n",
      "            break\n",
      "        for month in months:\n",
      "            query_dict = {}\n",
      "            query_dict['q']='\"'+'President '+president[:-1]+'\"'\n",
      "            year_month = str(year)+str_month(month)\n",
      "            \n",
      "            if (year==presidents[president][0] and month==1): \n",
      "                query_dict['start_date'] = year_month+'20'\n",
      "            else:\n",
      "                query_dict['start_date'] = year_month+'01'\n",
      "                \n",
      "            query_dict['end_date']  = year_month+str(days_in_month(year,month))\n",
      "            query_list.append(query_dict)\n",
      "    if president!=\"Obama \":\n",
      "        query_dict = {}\n",
      "        query_dict['q']='\"'+\"President \"+president[:-1]+'\"'\n",
      "        query_dict['start_date'] = str(presidents[president][1])+'0101'\n",
      "        query_dict['end_date'] = str(presidents[president][1])+'0119'\n",
      "        query_list.append(query_dict)\n"
     ],
     "language": "python",
     "metadata": {},
     "outputs": [],
     "prompt_number": 5
    },
    {
     "cell_type": "code",
     "collapsed": true,
     "input": [
      "pages_allowed = 100\n",
      "articles_per_page = 10\n",
      "\n",
      "break_loop=False\n",
      "num_articles = 0\n",
      "num_queries = 0\n",
      "query_list_index = 0\n",
      "for query in query_list:\n",
      "    print \"Current Query:\", query_list_index\n",
      "    hits=100 #value only used to enter loop\n",
      "    offset=0\n",
      "    page=0\n",
      "    while (hits-10)>=offset:\n",
      "        try:\n",
      "            articles = api.search(q=query['q'],\n",
      "                                  page=page,\n",
      "                                  begin_date=query['start_date'],\n",
      "                                  end_date=query['end_date'])\n",
      "        except:\n",
      "            print \"No articles\"\n",
      "            print\n",
      "            \n",
      "        num_queries += 1\n",
      "        num_articles += len(articles)\n",
      "        \n",
      "        articles_insert = articles['response']['docs']\n",
      "        if len(articles_insert)!=0:\n",
      "            try:\n",
      "                collection.insert(articles_insert,continue_on_error=True)\n",
      "            except:\n",
      "                print 'INSERT ERROR'\n",
      "                print 'query:', query\n",
      "                print 'pages:', page\n",
      "                print \"Status:\", articles['status']\n",
      "                print \"Number of Articles:\", len(articles['response']['docs'])\n",
      "                print\n",
      "        else:\n",
      "            print \"EMPTY RETURN\"\n",
      "            print articles\n",
      "            print\n",
      "        \n",
      "        offset = articles['response']['meta']['offset']\n",
      "        hits = articles['response']['meta']['hits']\n",
      "        page+=1\n",
      "        if (page>pages_allowed):\n",
      "            print \"TOO MANY PAGES\"\n",
      "            print \"query:\", query\n",
      "            print \"hits:\", hits\n",
      "            print \"offset:\", offset\n",
      "            print\n",
      "            break\n",
      "        if num_queries>9600:\n",
      "            print \"TOO MANY QUERIES\"\n",
      "            print \"query:\", query\n",
      "            print \"query list index:\", query_list_index\n",
      "            print \"hits:\", hits\n",
      "            print \"offset:\", offset\n",
      "            print\n",
      "            api = nytimesarticle.articleAPI('07bd04ca3e91ae6175c44e66a867e86b:6:70005647')\n",
      "        elif num_queries > 19000:\n",
      "            print \"A LOT OF QUERIES\"\n",
      "            #break_loop=True\n",
      "            #break\n",
      "    if break_loop:\n",
      "        break\n",
      "    time.sleep(0.1)\n",
      "    query_list_index += 1"
     ],
     "language": "python",
     "metadata": {},
     "outputs": [
      {
       "output_type": "stream",
       "stream": "stdout",
       "text": [
        "Current Query: 0\n",
        "INSERT ERROR"
       ]
      },
      {
       "output_type": "stream",
       "stream": "stdout",
       "text": [
        "\n",
        "query: {'q': '\"President Reagan\"', 'start_date': '19880401', 'end_date': '19880430'}\n",
        "query list index: 402\n",
        "hits: 290\n",
        "offset: 250\n",
        "\n",
        "TOO MANY QUERIES"
       ]
      },
      {
       "output_type": "stream",
       "stream": "stdout",
       "text": [
        "\n",
        "query: {'q': '\"President Reagan\"', 'start_date': '19880401', 'end_date': '19880430'}\n",
        "query list index: 402\n",
        "hits: 290\n",
        "offset: 260\n",
        "\n",
        "TOO MANY QUERIES"
       ]
      },
      {
       "output_type": "stream",
       "stream": "stdout",
       "text": [
        "\n",
        "query: {'q': '\"President Reagan\"', 'start_date': '19880401', 'end_date': '19880430'}\n",
        "query list index: 402\n",
        "hits: 290\n",
        "offset: 270\n",
        "\n",
        "TOO MANY QUERIES"
       ]
      },
      {
       "output_type": "stream",
       "stream": "stdout",
       "text": [
        "\n",
        "query: {'q': '\"President Reagan\"', 'start_date': '19880401', 'end_date': '19880430'}\n",
        "query list index: 402\n",
        "hits: 290\n",
        "offset: 280\n",
        "\n",
        "EMPTY RETURN"
       ]
      },
      {
       "output_type": "stream",
       "stream": "stdout",
       "text": [
        "\n",
        "{u'status': u'OK', u'response': {u'docs': [], u'meta': {u'hits': 290, u'offset': 290, u'time': 229}}, u'copyright': u'Copyright (c) 2013 The New York Times Company.  All Rights Reserved.'}\n",
        "\n",
        "TOO MANY QUERIES\n",
        "query: {'q': '\"President Reagan\"', 'start_date': '19880401', 'end_date': '19880430'}\n",
        "query list index: 402\n",
        "hits: 290\n",
        "offset: 290\n",
        "\n",
        "Current Query:"
       ]
      },
      {
       "output_type": "stream",
       "stream": "stdout",
       "text": [
        " 403\n",
        "TOO MANY QUERIES"
       ]
      },
      {
       "output_type": "stream",
       "stream": "stdout",
       "text": [
        "\n",
        "query: {'q': '\"President Reagan\"', 'start_date': '19880501', 'end_date': '19880531'}\n",
        "query list index: 403\n",
        "hits: 342\n",
        "offset: 0\n",
        "\n",
        "INSERT ERROR"
       ]
      },
      {
       "output_type": "stream",
       "stream": "stdout",
       "text": [
        "\n",
        "query: {'q': '\"President Reagan\"', 'start_date': '19880501', 'end_date': '19880531'}\n",
        "pages: 1\n",
        "Status: OK\n",
        "Number of Articles: 10\n",
        "\n",
        "TOO MANY QUERIES\n",
        "query: {'q': '\"President Reagan\"', 'start_date': '19880501', 'end_date': '19880531'}\n",
        "query list index: 403\n",
        "hits: 342\n",
        "offset: 10\n",
        "\n",
        "TOO MANY QUERIES"
       ]
      },
      {
       "output_type": "stream",
       "stream": "stdout",
       "text": [
        "\n",
        "query: {'q': '\"President Reagan\"', 'start_date': '19880501', 'end_date': '19880531'}\n",
        "query list index: 403\n",
        "hits: 342\n",
        "offset: 20\n",
        "\n",
        "INSERT ERROR"
       ]
      },
      {
       "output_type": "stream",
       "stream": "stdout",
       "text": [
        "\n",
        "query: {'q': '\"President Reagan\"', 'start_date': '19880501', 'end_date': '19880531'}\n",
        "pages: 3\n",
        "Status: OK\n",
        "Number of Articles: 10\n",
        "\n",
        "TOO MANY QUERIES\n",
        "query: {'q': '\"President Reagan\"', 'start_date': '19880501', 'end_date': '19880531'}\n",
        "query list index: 403\n",
        "hits: 342\n",
        "offset: 30\n",
        "\n",
        "TOO MANY QUERIES"
       ]
      },
      {
       "output_type": "stream",
       "stream": "stdout",
       "text": [
        "\n",
        "query: {'q': '\"President Reagan\"', 'start_date': '19880501', 'end_date': '19880531'}\n",
        "query list index: 403\n",
        "hits: 342\n",
        "offset: 40\n",
        "\n",
        "INSERT ERROR"
       ]
      },
      {
       "output_type": "stream",
       "stream": "stdout",
       "text": [
        "\n",
        "query: {'q': '\"President Reagan\"', 'start_date': '19880501', 'end_date': '19880531'}\n",
        "pages: 5\n",
        "Status: OK\n",
        "Number of Articles: 10\n",
        "\n",
        "TOO MANY QUERIES\n",
        "query: {'q': '\"President Reagan\"', 'start_date': '19880501', 'end_date': '19880531'}\n",
        "query list index: 403\n",
        "hits: 342\n",
        "offset: 50\n",
        "\n",
        "TOO MANY QUERIES"
       ]
      },
      {
       "output_type": "stream",
       "stream": "stdout",
       "text": [
        "\n",
        "query: {'q': '\"President Reagan\"', 'start_date': '19880501', 'end_date': '19880531'}\n",
        "query list index: 403\n",
        "hits: 342\n",
        "offset: 60\n",
        "\n",
        "TOO MANY QUERIES"
       ]
      },
      {
       "output_type": "stream",
       "stream": "stdout",
       "text": [
        "\n",
        "query: {'q': '\"President Reagan\"', 'start_date': '19880501', 'end_date': '19880531'}\n",
        "query list index: 403\n",
        "hits: 342\n",
        "offset: 70\n",
        "\n",
        "TOO MANY QUERIES"
       ]
      },
      {
       "output_type": "stream",
       "stream": "stdout",
       "text": [
        "\n",
        "query: {'q': '\"President Reagan\"', 'start_date': '19880501', 'end_date': '19880531'}\n",
        "query list index: 403\n",
        "hits: 342\n",
        "offset: 80\n",
        "\n",
        "TOO MANY QUERIES"
       ]
      },
      {
       "output_type": "stream",
       "stream": "stdout",
       "text": [
        "\n",
        "query: {'q': '\"President Reagan\"', 'start_date': '19880501', 'end_date': '19880531'}\n",
        "query list index: 403\n",
        "hits: 342\n",
        "offset: 90\n",
        "\n",
        "TOO MANY QUERIES"
       ]
      },
      {
       "output_type": "stream",
       "stream": "stdout",
       "text": [
        "\n",
        "query: {'q': '\"President Reagan\"', 'start_date': '19880501', 'end_date': '19880531'}\n",
        "query list index: 403\n",
        "hits: 342\n",
        "offset: 100\n",
        "\n",
        "TOO MANY QUERIES"
       ]
      },
      {
       "output_type": "stream",
       "stream": "stdout",
       "text": [
        "\n",
        "query: {'q': '\"President Reagan\"', 'start_date': '19880501', 'end_date': '19880531'}\n",
        "query list index: 403\n",
        "hits: 342\n",
        "offset: 110\n",
        "\n",
        "TOO MANY QUERIES"
       ]
      },
      {
       "output_type": "stream",
       "stream": "stdout",
       "text": [
        "\n",
        "query: {'q': '\"President Reagan\"', 'start_date': '19880501', 'end_date': '19880531'}\n",
        "query list index: 403\n",
        "hits: 342\n",
        "offset: 120\n",
        "\n",
        "TOO MANY QUERIES"
       ]
      },
      {
       "output_type": "stream",
       "stream": "stdout",
       "text": [
        "\n",
        "query: {'q': '\"President Reagan\"', 'start_date': '19880501', 'end_date': '19880531'}\n",
        "query list index: 403\n",
        "hits: 342\n",
        "offset: 130\n",
        "\n",
        "INSERT ERROR"
       ]
      },
      {
       "output_type": "stream",
       "stream": "stdout",
       "text": [
        "\n",
        "query: {'q': '\"President Reagan\"', 'start_date': '19880501', 'end_date': '19880531'}\n",
        "pages: 14\n",
        "Status: OK\n",
        "Number of Articles: 10\n",
        "\n",
        "TOO MANY QUERIES\n",
        "query: {'q': '\"President Reagan\"', 'start_date': '19880501', 'end_date': '19880531'}\n",
        "query list index: 403\n",
        "hits: 342\n",
        "offset: 140\n",
        "\n",
        "TOO MANY QUERIES"
       ]
      },
      {
       "output_type": "stream",
       "stream": "stdout",
       "text": [
        "\n",
        "query: {'q': '\"President Reagan\"', 'start_date': '19880501', 'end_date': '19880531'}\n",
        "query list index: 403\n",
        "hits: 342\n",
        "offset: 150\n",
        "\n",
        "INSERT ERROR"
       ]
      },
      {
       "output_type": "stream",
       "stream": "stdout",
       "text": [
        "\n",
        "query: {'q': '\"President Reagan\"', 'start_date': '19880501', 'end_date': '19880531'}\n",
        "pages: 16\n",
        "Status: OK\n",
        "Number of Articles: 10\n",
        "\n",
        "TOO MANY QUERIES\n",
        "query: {'q': '\"President Reagan\"', 'start_date': '19880501', 'end_date': '19880531'}\n",
        "query list index: 403\n",
        "hits: 342\n",
        "offset: 160\n",
        "\n",
        "TOO MANY QUERIES"
       ]
      },
      {
       "output_type": "stream",
       "stream": "stdout",
       "text": [
        "\n",
        "query: {'q': '\"President Reagan\"', 'start_date': '19880501', 'end_date': '19880531'}\n",
        "query list index: 403\n",
        "hits: 342\n",
        "offset: 170\n",
        "\n",
        "TOO MANY QUERIES"
       ]
      },
      {
       "output_type": "stream",
       "stream": "stdout",
       "text": [
        "\n",
        "query: {'q': '\"President Reagan\"', 'start_date': '19880501', 'end_date': '19880531'}\n",
        "query list index: 403\n",
        "hits: 342\n",
        "offset: 180\n",
        "\n",
        "INSERT ERROR"
       ]
      },
      {
       "output_type": "stream",
       "stream": "stdout",
       "text": [
        "\n",
        "query: {'q': '\"President Reagan\"', 'start_date': '19880501', 'end_date': '19880531'}\n",
        "pages: 19\n",
        "Status: OK\n",
        "Number of Articles: 10\n",
        "\n",
        "TOO MANY QUERIES\n",
        "query: {'q': '\"President Reagan\"', 'start_date': '19880501', 'end_date': '19880531'}\n",
        "query list index: 403\n",
        "hits: 342\n",
        "offset: 190\n",
        "\n",
        "TOO MANY QUERIES"
       ]
      },
      {
       "output_type": "stream",
       "stream": "stdout",
       "text": [
        "\n",
        "query: {'q': '\"President Reagan\"', 'start_date': '19880501', 'end_date': '19880531'}\n",
        "query list index: 403\n",
        "hits: 342\n",
        "offset: 200\n",
        "\n",
        "TOO MANY QUERIES"
       ]
      },
      {
       "output_type": "stream",
       "stream": "stdout",
       "text": [
        "\n",
        "query: {'q': '\"President Reagan\"', 'start_date': '19880501', 'end_date': '19880531'}\n",
        "query list index: 403\n",
        "hits: 342\n",
        "offset: 210\n",
        "\n",
        "TOO MANY QUERIES"
       ]
      },
      {
       "output_type": "stream",
       "stream": "stdout",
       "text": [
        "\n",
        "query: {'q': '\"President Reagan\"', 'start_date': '19880501', 'end_date': '19880531'}\n",
        "query list index: 403\n",
        "hits: 342\n",
        "offset: 220\n",
        "\n",
        "TOO MANY QUERIES"
       ]
      },
      {
       "output_type": "stream",
       "stream": "stdout",
       "text": [
        "\n",
        "query: {'q': '\"President Reagan\"', 'start_date': '19880501', 'end_date': '19880531'}\n",
        "query list index: 403\n",
        "hits: 342\n",
        "offset: 230\n",
        "\n",
        "INSERT ERROR"
       ]
      },
      {
       "output_type": "stream",
       "stream": "stdout",
       "text": [
        "\n",
        "query: {'q': '\"President Reagan\"', 'start_date': '19880501', 'end_date': '19880531'}\n",
        "pages: 24\n",
        "Status: OK\n",
        "Number of Articles: 10\n",
        "\n",
        "TOO MANY QUERIES\n",
        "query: {'q': '\"President Reagan\"', 'start_date': '19880501', 'end_date': '19880531'}\n",
        "query list index: 403\n",
        "hits: 342\n",
        "offset: 240\n",
        "\n",
        "INSERT ERROR"
       ]
      },
      {
       "output_type": "stream",
       "stream": "stdout",
       "text": [
        "\n",
        "query: {'q': '\"President Reagan\"', 'start_date': '19880501', 'end_date': '19880531'}\n",
        "pages: 25\n",
        "Status: OK\n",
        "Number of Articles: 10\n",
        "\n",
        "TOO MANY QUERIES\n",
        "query: {'q': '\"President Reagan\"', 'start_date': '19880501', 'end_date': '19880531'}\n",
        "query list index: 403\n",
        "hits: 342\n",
        "offset: 250\n",
        "\n",
        "TOO MANY QUERIES"
       ]
      },
      {
       "output_type": "stream",
       "stream": "stdout",
       "text": [
        "\n",
        "query: {'q': '\"President Reagan\"', 'start_date': '19880501', 'end_date': '19880531'}\n",
        "query list index: 403\n",
        "hits: 342\n",
        "offset: 260\n",
        "\n",
        "INSERT ERROR"
       ]
      },
      {
       "output_type": "stream",
       "stream": "stdout",
       "text": [
        "\n",
        "query: {'q': '\"President Reagan\"', 'start_date': '19880501', 'end_date': '19880531'}\n",
        "pages: 27\n",
        "Status: OK\n",
        "Number of Articles: 10\n",
        "\n",
        "TOO MANY QUERIES\n",
        "query: {'q': '\"President Reagan\"', 'start_date': '19880501', 'end_date': '19880531'}\n",
        "query list index: 403\n",
        "hits: 342\n",
        "offset: 270\n",
        "\n",
        "TOO MANY QUERIES"
       ]
      },
      {
       "output_type": "stream",
       "stream": "stdout",
       "text": [
        "\n",
        "query: {'q': '\"President Reagan\"', 'start_date': '19880501', 'end_date': '19880531'}\n",
        "query list index: 403\n",
        "hits: 342\n",
        "offset: 280\n",
        "\n",
        "TOO MANY QUERIES"
       ]
      },
      {
       "output_type": "stream",
       "stream": "stdout",
       "text": [
        "\n",
        "query: {'q': '\"President Reagan\"', 'start_date': '19880501', 'end_date': '19880531'}\n",
        "query list index: 403\n",
        "hits: 342\n",
        "offset: 290\n",
        "\n",
        "TOO MANY QUERIES"
       ]
      },
      {
       "output_type": "stream",
       "stream": "stdout",
       "text": [
        "\n",
        "query: {'q': '\"President Reagan\"', 'start_date': '19880501', 'end_date': '19880531'}\n",
        "query list index: 403\n",
        "hits: 342\n",
        "offset: 300\n",
        "\n",
        "TOO MANY QUERIES"
       ]
      },
      {
       "output_type": "stream",
       "stream": "stdout",
       "text": [
        "\n",
        "query: {'q': '\"President Reagan\"', 'start_date': '19880501', 'end_date': '19880531'}\n",
        "query list index: 403\n",
        "hits: 342\n",
        "offset: 310\n",
        "\n",
        "TOO MANY QUERIES"
       ]
      },
      {
       "output_type": "stream",
       "stream": "stdout",
       "text": [
        "\n",
        "query: {'q': '\"President Reagan\"', 'start_date': '19880501', 'end_date': '19880531'}\n",
        "query list index: 403\n",
        "hits: 342\n",
        "offset: 320\n",
        "\n",
        "TOO MANY QUERIES"
       ]
      },
      {
       "output_type": "stream",
       "stream": "stdout",
       "text": [
        "\n",
        "query: {'q': '\"President Reagan\"', 'start_date': '19880501', 'end_date': '19880531'}\n",
        "query list index: 403\n",
        "hits: 342\n",
        "offset: 330\n",
        "\n",
        "TOO MANY QUERIES"
       ]
      },
      {
       "output_type": "stream",
       "stream": "stdout",
       "text": [
        "\n",
        "query: {'q': '\"President Reagan\"', 'start_date': '19880501', 'end_date': '19880531'}\n",
        "query list index: 403\n",
        "hits: 342\n",
        "offset: 340\n",
        "\n",
        "Current Query:"
       ]
      },
      {
       "output_type": "stream",
       "stream": "stdout",
       "text": [
        " 404\n",
        "TOO MANY QUERIES"
       ]
      },
      {
       "output_type": "stream",
       "stream": "stdout",
       "text": [
        "\n",
        "query: {'q': '\"President Reagan\"', 'start_date': '19880601', 'end_date': '19880630'}\n",
        "query list index: 404\n",
        "hits: 266\n",
        "offset: 0\n",
        "\n",
        "TOO MANY QUERIES"
       ]
      },
      {
       "output_type": "stream",
       "stream": "stdout",
       "text": [
        "\n",
        "query: {'q': '\"President Reagan\"', 'start_date': '19880601', 'end_date': '19880630'}\n",
        "query list index: 404\n",
        "hits: 266\n",
        "offset: 10\n",
        "\n",
        "TOO MANY QUERIES"
       ]
      },
      {
       "output_type": "stream",
       "stream": "stdout",
       "text": [
        "\n",
        "query: {'q': '\"President Reagan\"', 'start_date': '19880601', 'end_date': '19880630'}\n",
        "query list index: 404\n",
        "hits: 266\n",
        "offset: 20\n",
        "\n",
        "INSERT ERROR"
       ]
      },
      {
       "output_type": "stream",
       "stream": "stdout",
       "text": [
        "\n",
        "query: {'q': '\"President Reagan\"', 'start_date': '19880601', 'end_date': '19880630'}\n",
        "pages: 3\n",
        "Status: OK\n",
        "Number of Articles: 10\n",
        "\n",
        "TOO MANY QUERIES\n",
        "query: {'q': '\"President Reagan\"', 'start_date': '19880601', 'end_date': '19880630'}\n",
        "query list index: 404\n",
        "hits: 266\n",
        "offset: 30\n",
        "\n",
        "TOO MANY QUERIES"
       ]
      },
      {
       "output_type": "stream",
       "stream": "stdout",
       "text": [
        "\n",
        "query: {'q': '\"President Reagan\"', 'start_date': '19880601', 'end_date': '19880630'}\n",
        "query list index: 404\n",
        "hits: 266\n",
        "offset: 40\n",
        "\n",
        "TOO MANY QUERIES"
       ]
      },
      {
       "output_type": "stream",
       "stream": "stdout",
       "text": [
        "\n",
        "query: {'q': '\"President Reagan\"', 'start_date': '19880601', 'end_date': '19880630'}\n",
        "query list index: 404\n",
        "hits: 266\n",
        "offset: 50\n",
        "\n",
        "TOO MANY QUERIES"
       ]
      },
      {
       "output_type": "stream",
       "stream": "stdout",
       "text": [
        "\n",
        "query: {'q': '\"President Reagan\"', 'start_date': '19880601', 'end_date': '19880630'}\n",
        "query list index: 404\n",
        "hits: 266\n",
        "offset: 60\n",
        "\n",
        "TOO MANY QUERIES"
       ]
      },
      {
       "output_type": "stream",
       "stream": "stdout",
       "text": [
        "\n",
        "query: {'q': '\"President Reagan\"', 'start_date': '19880601', 'end_date': '19880630'}\n",
        "query list index: 404\n",
        "hits: 266\n",
        "offset: 70\n",
        "\n",
        "TOO MANY QUERIES"
       ]
      },
      {
       "output_type": "stream",
       "stream": "stdout",
       "text": [
        "\n",
        "query: {'q': '\"President Reagan\"', 'start_date': '19880601', 'end_date': '19880630'}\n",
        "query list index: 404\n",
        "hits: 266\n",
        "offset: 80\n",
        "\n",
        "TOO MANY QUERIES"
       ]
      },
      {
       "output_type": "stream",
       "stream": "stdout",
       "text": [
        "\n",
        "query: {'q': '\"President Reagan\"', 'start_date': '19880601', 'end_date': '19880630'}\n",
        "query list index: 404\n",
        "hits: 266\n",
        "offset: 90\n",
        "\n",
        "TOO MANY QUERIES"
       ]
      },
      {
       "output_type": "stream",
       "stream": "stdout",
       "text": [
        "\n",
        "query: {'q': '\"President Reagan\"', 'start_date': '19880601', 'end_date': '19880630'}\n",
        "query list index: 404\n",
        "hits: 266\n",
        "offset: 100\n",
        "\n",
        "TOO MANY QUERIES"
       ]
      },
      {
       "output_type": "stream",
       "stream": "stdout",
       "text": [
        "\n",
        "query: {'q': '\"President Reagan\"', 'start_date': '19880601', 'end_date': '19880630'}\n",
        "query list index: 404\n",
        "hits: 266\n",
        "offset: 110\n",
        "\n",
        "TOO MANY QUERIES"
       ]
      },
      {
       "output_type": "stream",
       "stream": "stdout",
       "text": [
        "\n",
        "query: {'q': '\"President Reagan\"', 'start_date': '19880601', 'end_date': '19880630'}\n",
        "query list index: 404\n",
        "hits: 266\n",
        "offset: 120\n",
        "\n",
        "TOO MANY QUERIES"
       ]
      },
      {
       "output_type": "stream",
       "stream": "stdout",
       "text": [
        "\n",
        "query: {'q': '\"President Reagan\"', 'start_date': '19880601', 'end_date': '19880630'}\n",
        "query list index: 404\n",
        "hits: 266\n",
        "offset: 130\n",
        "\n",
        "TOO MANY QUERIES"
       ]
      },
      {
       "output_type": "stream",
       "stream": "stdout",
       "text": [
        "\n",
        "query: {'q': '\"President Reagan\"', 'start_date': '19880601', 'end_date': '19880630'}\n",
        "query list index: 404\n",
        "hits: 266\n",
        "offset: 140\n",
        "\n",
        "TOO MANY QUERIES"
       ]
      },
      {
       "output_type": "stream",
       "stream": "stdout",
       "text": [
        "\n",
        "query: {'q': '\"President Reagan\"', 'start_date': '19880601', 'end_date': '19880630'}\n",
        "query list index: 404\n",
        "hits: 266\n",
        "offset: 150\n",
        "\n",
        "TOO MANY QUERIES"
       ]
      },
      {
       "output_type": "stream",
       "stream": "stdout",
       "text": [
        "\n",
        "query: {'q': '\"President Reagan\"', 'start_date': '19880601', 'end_date': '19880630'}\n",
        "query list index: 404\n",
        "hits: 266\n",
        "offset: 160\n",
        "\n",
        "TOO MANY QUERIES"
       ]
      },
      {
       "output_type": "stream",
       "stream": "stdout",
       "text": [
        "\n",
        "query: {'q': '\"President Reagan\"', 'start_date': '19880601', 'end_date': '19880630'}\n",
        "query list index: 404\n",
        "hits: 266\n",
        "offset: 170\n",
        "\n",
        "TOO MANY QUERIES"
       ]
      },
      {
       "output_type": "stream",
       "stream": "stdout",
       "text": [
        "\n",
        "query: {'q': '\"President Reagan\"', 'start_date': '19880601', 'end_date': '19880630'}\n",
        "query list index: 404\n",
        "hits: 266\n",
        "offset: 180\n",
        "\n",
        "TOO MANY QUERIES"
       ]
      },
      {
       "output_type": "stream",
       "stream": "stdout",
       "text": [
        "\n",
        "query: {'q': '\"President Reagan\"', 'start_date': '19880601', 'end_date': '19880630'}\n",
        "query list index: 404\n",
        "hits: 266\n",
        "offset: 190\n",
        "\n",
        "TOO MANY QUERIES"
       ]
      },
      {
       "output_type": "stream",
       "stream": "stdout",
       "text": [
        "\n",
        "query: {'q': '\"President Reagan\"', 'start_date': '19880601', 'end_date': '19880630'}\n",
        "query list index: 404\n",
        "hits: 266\n",
        "offset: 200\n",
        "\n",
        "TOO MANY QUERIES"
       ]
      },
      {
       "output_type": "stream",
       "stream": "stdout",
       "text": [
        "\n",
        "query: {'q': '\"President Reagan\"', 'start_date': '19880601', 'end_date': '19880630'}\n",
        "query list index: 404\n",
        "hits: 266\n",
        "offset: 210\n",
        "\n",
        "TOO MANY QUERIES"
       ]
      },
      {
       "output_type": "stream",
       "stream": "stdout",
       "text": [
        "\n",
        "query: {'q': '\"President Reagan\"', 'start_date': '19880601', 'end_date': '19880630'}\n",
        "query list index: 404\n",
        "hits: 266\n",
        "offset: 220\n",
        "\n",
        "TOO MANY QUERIES"
       ]
      },
      {
       "output_type": "stream",
       "stream": "stdout",
       "text": [
        "\n",
        "query: {'q': '\"President Reagan\"', 'start_date': '19880601', 'end_date': '19880630'}\n",
        "query list index: 404\n",
        "hits: 266\n",
        "offset: 230\n",
        "\n",
        "TOO MANY QUERIES"
       ]
      },
      {
       "output_type": "stream",
       "stream": "stdout",
       "text": [
        "\n",
        "query: {'q': '\"President Reagan\"', 'start_date': '19880601', 'end_date': '19880630'}\n",
        "query list index: 404\n",
        "hits: 266\n",
        "offset: 240\n",
        "\n",
        "TOO MANY QUERIES"
       ]
      },
      {
       "output_type": "stream",
       "stream": "stdout",
       "text": [
        "\n",
        "query: {'q': '\"President Reagan\"', 'start_date': '19880601', 'end_date': '19880630'}\n",
        "query list index: 404\n",
        "hits: 266\n",
        "offset: 250\n",
        "\n",
        "INSERT ERROR"
       ]
      },
      {
       "output_type": "stream",
       "stream": "stdout",
       "text": [
        "\n",
        "query: {'q': '\"President Reagan\"', 'start_date': '19880601', 'end_date': '19880630'}\n",
        "pages: 26\n",
        "Status: OK\n",
        "Number of Articles: 6\n",
        "\n",
        "TOO MANY QUERIES\n",
        "query: {'q': '\"President Reagan\"', 'start_date': '19880601', 'end_date': '19880630'}\n",
        "query list index: 404\n",
        "hits: 266\n",
        "offset: 260\n",
        "\n",
        "Current Query:"
       ]
      },
      {
       "output_type": "stream",
       "stream": "stdout",
       "text": [
        " 405\n",
        "TOO MANY QUERIES"
       ]
      },
      {
       "output_type": "stream",
       "stream": "stdout",
       "text": [
        "\n",
        "query: {'q': '\"President Reagan\"', 'start_date': '19880701', 'end_date': '19880731'}\n",
        "query list index: 405\n",
        "hits: 256\n",
        "offset: 0\n",
        "\n",
        "TOO MANY QUERIES"
       ]
      },
      {
       "output_type": "stream",
       "stream": "stdout",
       "text": [
        "\n",
        "query: {'q': '\"President Reagan\"', 'start_date': '19880701', 'end_date': '19880731'}\n",
        "query list index: 405\n",
        "hits: 256\n",
        "offset: 10\n",
        "\n",
        "INSERT ERROR"
       ]
      },
      {
       "output_type": "stream",
       "stream": "stdout",
       "text": [
        "\n",
        "query: {'q': '\"President Reagan\"', 'start_date': '19880701', 'end_date': '19880731'}\n",
        "pages: 2\n",
        "Status: OK\n",
        "Number of Articles: 10\n",
        "\n",
        "TOO MANY QUERIES\n",
        "query: {'q': '\"President Reagan\"', 'start_date': '19880701', 'end_date': '19880731'}\n",
        "query list index: 405\n",
        "hits: 256\n",
        "offset: 20\n",
        "\n",
        "INSERT ERROR"
       ]
      },
      {
       "output_type": "stream",
       "stream": "stdout",
       "text": [
        "\n",
        "query: {'q': '\"President Reagan\"', 'start_date': '19880701', 'end_date': '19880731'}\n",
        "pages: 3\n",
        "Status: OK\n",
        "Number of Articles: 10\n",
        "\n",
        "TOO MANY QUERIES\n",
        "query: {'q': '\"President Reagan\"', 'start_date': '19880701', 'end_date': '19880731'}\n",
        "query list index: 405\n",
        "hits: 256\n",
        "offset: 30\n",
        "\n",
        "TOO MANY QUERIES"
       ]
      },
      {
       "output_type": "stream",
       "stream": "stdout",
       "text": [
        "\n",
        "query: {'q': '\"President Reagan\"', 'start_date': '19880701', 'end_date': '19880731'}\n",
        "query list index: 405\n",
        "hits: 256\n",
        "offset: 40\n",
        "\n",
        "TOO MANY QUERIES"
       ]
      },
      {
       "output_type": "stream",
       "stream": "stdout",
       "text": [
        "\n",
        "query: {'q': '\"President Reagan\"', 'start_date': '19880701', 'end_date': '19880731'}\n",
        "query list index: 405\n",
        "hits: 256\n",
        "offset: 50\n",
        "\n",
        "INSERT ERROR"
       ]
      },
      {
       "output_type": "stream",
       "stream": "stdout",
       "text": [
        "\n",
        "query: {'q': '\"President Reagan\"', 'start_date': '19880701', 'end_date': '19880731'}\n",
        "pages: 6\n",
        "Status: OK\n",
        "Number of Articles: 10\n",
        "\n",
        "TOO MANY QUERIES\n",
        "query: {'q': '\"President Reagan\"', 'start_date': '19880701', 'end_date': '19880731'}\n",
        "query list index: 405\n",
        "hits: 256\n",
        "offset: 60\n",
        "\n",
        "TOO MANY QUERIES"
       ]
      },
      {
       "output_type": "stream",
       "stream": "stdout",
       "text": [
        "\n",
        "query: {'q': '\"President Reagan\"', 'start_date': '19880701', 'end_date': '19880731'}\n",
        "query list index: 405\n",
        "hits: 256\n",
        "offset: 70\n",
        "\n",
        "TOO MANY QUERIES"
       ]
      },
      {
       "output_type": "stream",
       "stream": "stdout",
       "text": [
        "\n",
        "query: {'q': '\"President Reagan\"', 'start_date': '19880701', 'end_date': '19880731'}\n",
        "query list index: 405\n",
        "hits: 256\n",
        "offset: 80\n",
        "\n",
        "TOO MANY QUERIES"
       ]
      },
      {
       "output_type": "stream",
       "stream": "stdout",
       "text": [
        "\n",
        "query: {'q': '\"President Reagan\"', 'start_date': '19880701', 'end_date': '19880731'}\n",
        "query list index: 405\n",
        "hits: 256\n",
        "offset: 90\n",
        "\n",
        "INSERT ERROR"
       ]
      },
      {
       "output_type": "stream",
       "stream": "stdout",
       "text": [
        "\n",
        "query: {'q': '\"President Reagan\"', 'start_date': '19880701', 'end_date': '19880731'}\n",
        "pages: 10\n",
        "Status: OK\n",
        "Number of Articles: 10\n",
        "\n",
        "TOO MANY QUERIES\n",
        "query: {'q': '\"President Reagan\"', 'start_date': '19880701', 'end_date': '19880731'}\n",
        "query list index: 405\n",
        "hits: 256\n",
        "offset: 100\n",
        "\n",
        "TOO MANY QUERIES"
       ]
      },
      {
       "output_type": "stream",
       "stream": "stdout",
       "text": [
        "\n",
        "query: {'q': '\"President Reagan\"', 'start_date': '19880701', 'end_date': '19880731'}\n",
        "query list index: 405\n",
        "hits: 256\n",
        "offset: 110\n",
        "\n",
        "TOO MANY QUERIES"
       ]
      },
      {
       "output_type": "stream",
       "stream": "stdout",
       "text": [
        "\n",
        "query: {'q': '\"President Reagan\"', 'start_date': '19880701', 'end_date': '19880731'}\n",
        "query list index: 405\n",
        "hits: 256\n",
        "offset: 120\n",
        "\n",
        "INSERT ERROR"
       ]
      },
      {
       "output_type": "stream",
       "stream": "stdout",
       "text": [
        "\n",
        "query: {'q': '\"President Reagan\"', 'start_date': '19880701', 'end_date': '19880731'}\n",
        "pages: 13\n",
        "Status: OK\n",
        "Number of Articles: 10\n",
        "\n",
        "TOO MANY QUERIES\n",
        "query: {'q': '\"President Reagan\"', 'start_date': '19880701', 'end_date': '19880731'}\n",
        "query list index: 405\n",
        "hits: 256\n",
        "offset: 130\n",
        "\n",
        "INSERT ERROR"
       ]
      },
      {
       "output_type": "stream",
       "stream": "stdout",
       "text": [
        "\n",
        "query: {'q': '\"President Reagan\"', 'start_date': '19880701', 'end_date': '19880731'}\n",
        "pages: 14\n",
        "Status: OK\n",
        "Number of Articles: 10\n",
        "\n",
        "TOO MANY QUERIES\n",
        "query: {'q': '\"President Reagan\"', 'start_date': '19880701', 'end_date': '19880731'}\n",
        "query list index: 405\n",
        "hits: 256\n",
        "offset: 140\n",
        "\n",
        "TOO MANY QUERIES"
       ]
      },
      {
       "output_type": "stream",
       "stream": "stdout",
       "text": [
        "\n",
        "query: {'q': '\"President Reagan\"', 'start_date': '19880701', 'end_date': '19880731'}\n",
        "query list index: 405\n",
        "hits: 256\n",
        "offset: 150\n",
        "\n",
        "TOO MANY QUERIES"
       ]
      },
      {
       "output_type": "stream",
       "stream": "stdout",
       "text": [
        "\n",
        "query: {'q': '\"President Reagan\"', 'start_date': '19880701', 'end_date': '19880731'}\n",
        "query list index: 405\n",
        "hits: 256\n",
        "offset: 160\n",
        "\n",
        "TOO MANY QUERIES"
       ]
      },
      {
       "output_type": "stream",
       "stream": "stdout",
       "text": [
        "\n",
        "query: {'q': '\"President Reagan\"', 'start_date': '19880701', 'end_date': '19880731'}\n",
        "query list index: 405\n",
        "hits: 256\n",
        "offset: 170\n",
        "\n",
        "INSERT ERROR"
       ]
      },
      {
       "output_type": "stream",
       "stream": "stdout",
       "text": [
        "\n",
        "query: {'q': '\"President Reagan\"', 'start_date': '19880701', 'end_date': '19880731'}\n",
        "pages: 18\n",
        "Status: OK\n",
        "Number of Articles: 10\n",
        "\n",
        "TOO MANY QUERIES\n",
        "query: {'q': '\"President Reagan\"', 'start_date': '19880701', 'end_date': '19880731'}\n",
        "query list index: 405\n",
        "hits: 256\n",
        "offset: 180\n",
        "\n",
        "TOO MANY QUERIES"
       ]
      },
      {
       "output_type": "stream",
       "stream": "stdout",
       "text": [
        "\n",
        "query: {'q': '\"President Reagan\"', 'start_date': '19880701', 'end_date': '19880731'}\n",
        "query list index: 405\n",
        "hits: 256\n",
        "offset: 190\n",
        "\n",
        "INSERT ERROR"
       ]
      },
      {
       "output_type": "stream",
       "stream": "stdout",
       "text": [
        "\n",
        "query: {'q': '\"President Reagan\"', 'start_date': '19880701', 'end_date': '19880731'}\n",
        "pages: 20\n",
        "Status: OK\n",
        "Number of Articles: 10\n",
        "\n",
        "TOO MANY QUERIES\n",
        "query: {'q': '\"President Reagan\"', 'start_date': '19880701', 'end_date': '19880731'}\n",
        "query list index: 405\n",
        "hits: 256\n",
        "offset: 200\n",
        "\n",
        "INSERT ERROR"
       ]
      },
      {
       "output_type": "stream",
       "stream": "stdout",
       "text": [
        "\n",
        "query: {'q': '\"President Reagan\"', 'start_date': '19880701', 'end_date': '19880731'}\n",
        "pages: 21\n",
        "Status: OK\n",
        "Number of Articles: 10\n",
        "\n",
        "TOO MANY QUERIES\n",
        "query: {'q': '\"President Reagan\"', 'start_date': '19880701', 'end_date': '19880731'}\n",
        "query list index: 405\n",
        "hits: 256\n",
        "offset: 210\n",
        "\n",
        "TOO MANY QUERIES"
       ]
      },
      {
       "output_type": "stream",
       "stream": "stdout",
       "text": [
        "\n",
        "query: {'q': '\"President Reagan\"', 'start_date': '19880701', 'end_date': '19880731'}\n",
        "query list index: 405\n",
        "hits: 256\n",
        "offset: 220\n",
        "\n",
        "TOO MANY QUERIES"
       ]
      },
      {
       "output_type": "stream",
       "stream": "stdout",
       "text": [
        "\n",
        "query: {'q': '\"President Reagan\"', 'start_date': '19880701', 'end_date': '19880731'}\n",
        "query list index: 405\n",
        "hits: 256\n",
        "offset: 230\n",
        "\n",
        "INSERT ERROR"
       ]
      },
      {
       "output_type": "stream",
       "stream": "stdout",
       "text": [
        "\n",
        "query: {'q': '\"President Reagan\"', 'start_date': '19880701', 'end_date': '19880731'}\n",
        "pages: 24\n",
        "Status: OK\n",
        "Number of Articles: 10\n",
        "\n",
        "TOO MANY QUERIES\n",
        "query: {'q': '\"President Reagan\"', 'start_date': '19880701', 'end_date': '19880731'}\n",
        "query list index: 405\n",
        "hits: 256\n",
        "offset: 240\n",
        "\n",
        "INSERT ERROR"
       ]
      },
      {
       "output_type": "stream",
       "stream": "stdout",
       "text": [
        "\n",
        "query: {'q': '\"President Reagan\"', 'start_date': '19880701', 'end_date': '19880731'}\n",
        "pages: 25\n",
        "Status: OK\n",
        "Number of Articles: 6\n",
        "\n",
        "TOO MANY QUERIES\n",
        "query: {'q': '\"President Reagan\"', 'start_date': '19880701', 'end_date': '19880731'}\n",
        "query list index: 405\n",
        "hits: 256\n",
        "offset: 250\n",
        "\n",
        "Current Query:"
       ]
      },
      {
       "output_type": "stream",
       "stream": "stdout",
       "text": [
        " 406\n",
        "TOO MANY QUERIES"
       ]
      },
      {
       "output_type": "stream",
       "stream": "stdout",
       "text": [
        "\n",
        "query: {'q': '\"President Reagan\"', 'start_date': '19880801', 'end_date': '19880831'}\n",
        "query list index: 406\n",
        "hits: 270\n",
        "offset: 0\n",
        "\n",
        "INSERT ERROR"
       ]
      },
      {
       "output_type": "stream",
       "stream": "stdout",
       "text": [
        "\n",
        "query: {'q': '\"President Reagan\"', 'start_date': '19880801', 'end_date': '19880831'}\n",
        "pages: 1\n",
        "Status: OK\n",
        "Number of Articles: 10\n",
        "\n",
        "TOO MANY QUERIES\n",
        "query: {'q': '\"President Reagan\"', 'start_date': '19880801', 'end_date': '19880831'}\n",
        "query list index: 406\n",
        "hits: 270\n",
        "offset: 10\n",
        "\n",
        "TOO MANY QUERIES"
       ]
      },
      {
       "output_type": "stream",
       "stream": "stdout",
       "text": [
        "\n",
        "query: {'q': '\"President Reagan\"', 'start_date': '19880801', 'end_date': '19880831'}\n",
        "query list index: 406\n",
        "hits: 270\n",
        "offset: 20\n",
        "\n",
        "INSERT ERROR"
       ]
      },
      {
       "output_type": "stream",
       "stream": "stdout",
       "text": [
        "\n",
        "query: {'q': '\"President Reagan\"', 'start_date': '19880801', 'end_date': '19880831'}\n",
        "pages: 3\n",
        "Status: OK\n",
        "Number of Articles: 10\n",
        "\n",
        "TOO MANY QUERIES\n",
        "query: {'q': '\"President Reagan\"', 'start_date': '19880801', 'end_date': '19880831'}\n",
        "query list index: 406\n",
        "hits: 270\n",
        "offset: 30\n",
        "\n",
        "TOO MANY QUERIES"
       ]
      },
      {
       "output_type": "stream",
       "stream": "stdout",
       "text": [
        "\n",
        "query: {'q': '\"President Reagan\"', 'start_date': '19880801', 'end_date': '19880831'}\n",
        "query list index: 406\n",
        "hits: 270\n",
        "offset: 40\n",
        "\n",
        "TOO MANY QUERIES"
       ]
      },
      {
       "output_type": "stream",
       "stream": "stdout",
       "text": [
        "\n",
        "query: {'q': '\"President Reagan\"', 'start_date': '19880801', 'end_date': '19880831'}\n",
        "query list index: 406\n",
        "hits: 270\n",
        "offset: 50\n",
        "\n",
        "TOO MANY QUERIES"
       ]
      },
      {
       "output_type": "stream",
       "stream": "stdout",
       "text": [
        "\n",
        "query: {'q': '\"President Reagan\"', 'start_date': '19880801', 'end_date': '19880831'}\n",
        "query list index: 406\n",
        "hits: 270\n",
        "offset: 60\n",
        "\n",
        "INSERT ERROR"
       ]
      },
      {
       "output_type": "stream",
       "stream": "stdout",
       "text": [
        "\n",
        "query: {'q': '\"President Reagan\"', 'start_date': '19880801', 'end_date': '19880831'}\n",
        "pages: 7\n",
        "Status: OK\n",
        "Number of Articles: 10\n",
        "\n",
        "TOO MANY QUERIES\n",
        "query: {'q': '\"President Reagan\"', 'start_date': '19880801', 'end_date': '19880831'}\n",
        "query list index: 406\n",
        "hits: 270\n",
        "offset: 70\n",
        "\n",
        "INSERT ERROR"
       ]
      },
      {
       "output_type": "stream",
       "stream": "stdout",
       "text": [
        "\n",
        "query: {'q': '\"President Reagan\"', 'start_date': '19880801', 'end_date': '19880831'}\n",
        "pages: 8\n",
        "Status: OK\n",
        "Number of Articles: 10\n",
        "\n",
        "TOO MANY QUERIES\n",
        "query: {'q': '\"President Reagan\"', 'start_date': '19880801', 'end_date': '19880831'}\n",
        "query list index: 406\n",
        "hits: 270\n",
        "offset: 80\n",
        "\n",
        "TOO MANY QUERIES"
       ]
      },
      {
       "output_type": "stream",
       "stream": "stdout",
       "text": [
        "\n",
        "query: {'q': '\"President Reagan\"', 'start_date': '19880801', 'end_date': '19880831'}\n",
        "query list index: 406\n",
        "hits: 270\n",
        "offset: 90\n",
        "\n",
        "TOO MANY QUERIES"
       ]
      },
      {
       "output_type": "stream",
       "stream": "stdout",
       "text": [
        "\n",
        "query: {'q': '\"President Reagan\"', 'start_date': '19880801', 'end_date': '19880831'}\n",
        "query list index: 406\n",
        "hits: 270\n",
        "offset: 100\n",
        "\n",
        "TOO MANY QUERIES"
       ]
      },
      {
       "output_type": "stream",
       "stream": "stdout",
       "text": [
        "\n",
        "query: {'q': '\"President Reagan\"', 'start_date': '19880801', 'end_date': '19880831'}\n",
        "query list index: 406\n",
        "hits: 270\n",
        "offset: 110\n",
        "\n",
        "TOO MANY QUERIES"
       ]
      },
      {
       "output_type": "stream",
       "stream": "stdout",
       "text": [
        "\n",
        "query: {'q': '\"President Reagan\"', 'start_date': '19880801', 'end_date': '19880831'}\n",
        "query list index: 406\n",
        "hits: 270\n",
        "offset: 120\n",
        "\n",
        "TOO MANY QUERIES"
       ]
      },
      {
       "output_type": "stream",
       "stream": "stdout",
       "text": [
        "\n",
        "query: {'q': '\"President Reagan\"', 'start_date': '19880801', 'end_date': '19880831'}\n",
        "query list index: 406\n",
        "hits: 270\n",
        "offset: 130\n",
        "\n",
        "INSERT ERROR"
       ]
      },
      {
       "output_type": "stream",
       "stream": "stdout",
       "text": [
        "\n",
        "query: {'q': '\"President Reagan\"', 'start_date': '19880801', 'end_date': '19880831'}\n",
        "pages: 14\n",
        "Status: OK\n",
        "Number of Articles: 10\n",
        "\n",
        "TOO MANY QUERIES\n",
        "query: {'q': '\"President Reagan\"', 'start_date': '19880801', 'end_date': '19880831'}\n",
        "query list index: 406\n",
        "hits: 270\n",
        "offset: 140\n",
        "\n",
        "TOO MANY QUERIES"
       ]
      },
      {
       "output_type": "stream",
       "stream": "stdout",
       "text": [
        "\n",
        "query: {'q': '\"President Reagan\"', 'start_date': '19880801', 'end_date': '19880831'}\n",
        "query list index: 406\n",
        "hits: 270\n",
        "offset: 150\n",
        "\n",
        "INSERT ERROR"
       ]
      },
      {
       "output_type": "stream",
       "stream": "stdout",
       "text": [
        "\n",
        "query: {'q': '\"President Reagan\"', 'start_date': '19880801', 'end_date': '19880831'}\n",
        "pages: 16\n",
        "Status: OK\n",
        "Number of Articles: 10\n",
        "\n",
        "TOO MANY QUERIES\n",
        "query: {'q': '\"President Reagan\"', 'start_date': '19880801', 'end_date': '19880831'}\n",
        "query list index: 406\n",
        "hits: 270\n",
        "offset: 160\n",
        "\n",
        "TOO MANY QUERIES"
       ]
      },
      {
       "output_type": "stream",
       "stream": "stdout",
       "text": [
        "\n",
        "query: {'q': '\"President Reagan\"', 'start_date': '19880801', 'end_date': '19880831'}\n",
        "query list index: 406\n",
        "hits: 270\n",
        "offset: 170\n",
        "\n",
        "INSERT ERROR"
       ]
      },
      {
       "output_type": "stream",
       "stream": "stdout",
       "text": [
        "\n",
        "query: {'q': '\"President Reagan\"', 'start_date': '19880801', 'end_date': '19880831'}\n",
        "pages: 18\n",
        "Status: OK\n",
        "Number of Articles: 10\n",
        "\n",
        "TOO MANY QUERIES\n",
        "query: {'q': '\"President Reagan\"', 'start_date': '19880801', 'end_date': '19880831'}\n",
        "query list index: 406\n",
        "hits: 270\n",
        "offset: 180\n",
        "\n",
        "TOO MANY QUERIES"
       ]
      },
      {
       "output_type": "stream",
       "stream": "stdout",
       "text": [
        "\n",
        "query: {'q': '\"President Reagan\"', 'start_date': '19880801', 'end_date': '19880831'}\n",
        "query list index: 406\n",
        "hits: 270\n",
        "offset: 190\n",
        "\n",
        "TOO MANY QUERIES"
       ]
      },
      {
       "output_type": "stream",
       "stream": "stdout",
       "text": [
        "\n",
        "query: {'q': '\"President Reagan\"', 'start_date': '19880801', 'end_date': '19880831'}\n",
        "query list index: 406\n",
        "hits: 270\n",
        "offset: 200\n",
        "\n",
        "TOO MANY QUERIES"
       ]
      },
      {
       "output_type": "stream",
       "stream": "stdout",
       "text": [
        "\n",
        "query: {'q': '\"President Reagan\"', 'start_date': '19880801', 'end_date': '19880831'}\n",
        "query list index: 406\n",
        "hits: 270\n",
        "offset: 210\n",
        "\n",
        "TOO MANY QUERIES"
       ]
      },
      {
       "output_type": "stream",
       "stream": "stdout",
       "text": [
        "\n",
        "query: {'q': '\"President Reagan\"', 'start_date': '19880801', 'end_date': '19880831'}\n",
        "query list index: 406\n",
        "hits: 270\n",
        "offset: 220\n",
        "\n",
        "TOO MANY QUERIES"
       ]
      },
      {
       "output_type": "stream",
       "stream": "stdout",
       "text": [
        "\n",
        "query: {'q': '\"President Reagan\"', 'start_date': '19880801', 'end_date': '19880831'}\n",
        "query list index: 406\n",
        "hits: 270\n",
        "offset: 230\n",
        "\n",
        "TOO MANY QUERIES"
       ]
      },
      {
       "output_type": "stream",
       "stream": "stdout",
       "text": [
        "\n",
        "query: {'q': '\"President Reagan\"', 'start_date': '19880801', 'end_date': '19880831'}\n",
        "query list index: 406\n",
        "hits: 270\n",
        "offset: 240\n",
        "\n",
        "TOO MANY QUERIES"
       ]
      },
      {
       "output_type": "stream",
       "stream": "stdout",
       "text": [
        "\n",
        "query: {'q': '\"President Reagan\"', 'start_date': '19880801', 'end_date': '19880831'}\n",
        "query list index: 406\n",
        "hits: 270\n",
        "offset: 250\n",
        "\n",
        "INSERT ERROR"
       ]
      },
      {
       "output_type": "stream",
       "stream": "stdout",
       "text": [
        "\n",
        "query: {'q': '\"President Reagan\"', 'start_date': '19880801', 'end_date': '19880831'}\n",
        "pages: 26\n",
        "Status: OK\n",
        "Number of Articles: 10\n",
        "\n",
        "TOO MANY QUERIES\n",
        "query: {'q': '\"President Reagan\"', 'start_date': '19880801', 'end_date': '19880831'}\n",
        "query list index: 406\n",
        "hits: 270\n",
        "offset: 260\n",
        "\n",
        "EMPTY RETURN"
       ]
      },
      {
       "output_type": "stream",
       "stream": "stdout",
       "text": [
        "\n",
        "{u'status': u'OK', u'response': {u'docs': [], u'meta': {u'hits': 270, u'offset': 270, u'time': 34}}, u'copyright': u'Copyright (c) 2013 The New York Times Company.  All Rights Reserved.'}\n",
        "\n",
        "TOO MANY QUERIES\n",
        "query: {'q': '\"President Reagan\"', 'start_date': '19880801', 'end_date': '19880831'}\n",
        "query list index: 406\n",
        "hits: 270\n",
        "offset: 270\n",
        "\n",
        "Current Query:"
       ]
      },
      {
       "output_type": "stream",
       "stream": "stdout",
       "text": [
        " 407\n",
        "TOO MANY QUERIES"
       ]
      },
      {
       "output_type": "stream",
       "stream": "stdout",
       "text": [
        "\n",
        "query: {'q': '\"President Reagan\"', 'start_date': '19880901', 'end_date': '19880930'}\n",
        "query list index: 407\n",
        "hits: 235\n",
        "offset: 0\n",
        "\n",
        "TOO MANY QUERIES"
       ]
      },
      {
       "output_type": "stream",
       "stream": "stdout",
       "text": [
        "\n",
        "query: {'q': '\"President Reagan\"', 'start_date': '19880901', 'end_date': '19880930'}\n",
        "query list index: 407\n",
        "hits: 235\n",
        "offset: 10\n",
        "\n",
        "TOO MANY QUERIES"
       ]
      },
      {
       "output_type": "stream",
       "stream": "stdout",
       "text": [
        "\n",
        "query: {'q': '\"President Reagan\"', 'start_date': '19880901', 'end_date': '19880930'}\n",
        "query list index: 407\n",
        "hits: 235\n",
        "offset: 20\n",
        "\n",
        "TOO MANY QUERIES"
       ]
      },
      {
       "output_type": "stream",
       "stream": "stdout",
       "text": [
        "\n",
        "query: {'q': '\"President Reagan\"', 'start_date': '19880901', 'end_date': '19880930'}\n",
        "query list index: 407\n",
        "hits: 235\n",
        "offset: 30\n",
        "\n",
        "INSERT ERROR"
       ]
      },
      {
       "output_type": "stream",
       "stream": "stdout",
       "text": [
        "\n",
        "query: {'q': '\"President Reagan\"', 'start_date': '19880901', 'end_date': '19880930'}\n",
        "pages: 4\n",
        "Status: OK\n",
        "Number of Articles: 10\n",
        "\n",
        "TOO MANY QUERIES\n",
        "query: {'q': '\"President Reagan\"', 'start_date': '19880901', 'end_date': '19880930'}\n",
        "query list index: 407\n",
        "hits: 235\n",
        "offset: 40\n",
        "\n",
        "INSERT ERROR"
       ]
      },
      {
       "output_type": "stream",
       "stream": "stdout",
       "text": [
        "\n",
        "query: {'q': '\"President Reagan\"', 'start_date': '19880901', 'end_date': '19880930'}\n",
        "pages: 5\n",
        "Status: OK\n",
        "Number of Articles: 10\n",
        "\n",
        "TOO MANY QUERIES\n",
        "query: {'q': '\"President Reagan\"', 'start_date': '19880901', 'end_date': '19880930'}\n",
        "query list index: 407\n",
        "hits: 235\n",
        "offset: 50\n",
        "\n",
        "TOO MANY QUERIES"
       ]
      },
      {
       "output_type": "stream",
       "stream": "stdout",
       "text": [
        "\n",
        "query: {'q': '\"President Reagan\"', 'start_date': '19880901', 'end_date': '19880930'}\n",
        "query list index: 407\n",
        "hits: 235\n",
        "offset: 60\n",
        "\n",
        "TOO MANY QUERIES"
       ]
      },
      {
       "output_type": "stream",
       "stream": "stdout",
       "text": [
        "\n",
        "query: {'q': '\"President Reagan\"', 'start_date': '19880901', 'end_date': '19880930'}\n",
        "query list index: 407\n",
        "hits: 235\n",
        "offset: 70\n",
        "\n",
        "TOO MANY QUERIES"
       ]
      },
      {
       "output_type": "stream",
       "stream": "stdout",
       "text": [
        "\n",
        "query: {'q': '\"President Reagan\"', 'start_date': '19880901', 'end_date': '19880930'}\n",
        "query list index: 407\n",
        "hits: 235\n",
        "offset: 80\n",
        "\n",
        "TOO MANY QUERIES"
       ]
      },
      {
       "output_type": "stream",
       "stream": "stdout",
       "text": [
        "\n",
        "query: {'q': '\"President Reagan\"', 'start_date': '19880901', 'end_date': '19880930'}\n",
        "query list index: 407\n",
        "hits: 235\n",
        "offset: 90\n",
        "\n",
        "TOO MANY QUERIES"
       ]
      },
      {
       "output_type": "stream",
       "stream": "stdout",
       "text": [
        "\n",
        "query: {'q': '\"President Reagan\"', 'start_date': '19880901', 'end_date': '19880930'}\n",
        "query list index: 407\n",
        "hits: 235\n",
        "offset: 100\n",
        "\n",
        "TOO MANY QUERIES"
       ]
      },
      {
       "output_type": "stream",
       "stream": "stdout",
       "text": [
        "\n",
        "query: {'q': '\"President Reagan\"', 'start_date': '19880901', 'end_date': '19880930'}\n",
        "query list index: 407\n",
        "hits: 235\n",
        "offset: 110\n",
        "\n",
        "INSERT ERROR"
       ]
      },
      {
       "output_type": "stream",
       "stream": "stdout",
       "text": [
        "\n",
        "query: {'q': '\"President Reagan\"', 'start_date': '19880901', 'end_date': '19880930'}\n",
        "pages: 12\n",
        "Status: OK\n",
        "Number of Articles: 10\n",
        "\n",
        "TOO MANY QUERIES\n",
        "query: {'q': '\"President Reagan\"', 'start_date': '19880901', 'end_date': '19880930'}\n",
        "query list index: 407\n",
        "hits: 235\n",
        "offset: 120\n",
        "\n",
        "INSERT ERROR"
       ]
      },
      {
       "output_type": "stream",
       "stream": "stdout",
       "text": [
        "\n",
        "query: {'q': '\"President Reagan\"', 'start_date': '19880901', 'end_date': '19880930'}\n",
        "pages: 13\n",
        "Status: OK\n",
        "Number of Articles: 10\n",
        "\n",
        "TOO MANY QUERIES\n",
        "query: {'q': '\"President Reagan\"', 'start_date': '19880901', 'end_date': '19880930'}\n",
        "query list index: 407\n",
        "hits: 235\n",
        "offset: 130\n",
        "\n",
        "TOO MANY QUERIES"
       ]
      },
      {
       "output_type": "stream",
       "stream": "stdout",
       "text": [
        "\n",
        "query: {'q': '\"President Reagan\"', 'start_date': '19880901', 'end_date': '19880930'}\n",
        "query list index: 407\n",
        "hits: 235\n",
        "offset: 140\n",
        "\n",
        "TOO MANY QUERIES"
       ]
      },
      {
       "output_type": "stream",
       "stream": "stdout",
       "text": [
        "\n",
        "query: {'q': '\"President Reagan\"', 'start_date': '19880901', 'end_date': '19880930'}\n",
        "query list index: 407\n",
        "hits: 235\n",
        "offset: 150\n",
        "\n",
        "TOO MANY QUERIES"
       ]
      },
      {
       "output_type": "stream",
       "stream": "stdout",
       "text": [
        "\n",
        "query: {'q': '\"President Reagan\"', 'start_date': '19880901', 'end_date': '19880930'}\n",
        "query list index: 407\n",
        "hits: 235\n",
        "offset: 160\n",
        "\n",
        "INSERT ERROR"
       ]
      },
      {
       "output_type": "stream",
       "stream": "stdout",
       "text": [
        "\n",
        "query: {'q': '\"President Reagan\"', 'start_date': '19880901', 'end_date': '19880930'}\n",
        "pages: 17\n",
        "Status: OK\n",
        "Number of Articles: 10\n",
        "\n",
        "TOO MANY QUERIES\n",
        "query: {'q': '\"President Reagan\"', 'start_date': '19880901', 'end_date': '19880930'}\n",
        "query list index: 407\n",
        "hits: 235\n",
        "offset: 170\n",
        "\n",
        "TOO MANY QUERIES"
       ]
      },
      {
       "output_type": "stream",
       "stream": "stdout",
       "text": [
        "\n",
        "query: {'q': '\"President Reagan\"', 'start_date': '19880901', 'end_date': '19880930'}\n",
        "query list index: 407\n",
        "hits: 235\n",
        "offset: 180\n",
        "\n",
        "TOO MANY QUERIES"
       ]
      },
      {
       "output_type": "stream",
       "stream": "stdout",
       "text": [
        "\n",
        "query: {'q': '\"President Reagan\"', 'start_date': '19880901', 'end_date': '19880930'}\n",
        "query list index: 407\n",
        "hits: 235\n",
        "offset: 190\n",
        "\n",
        "TOO MANY QUERIES"
       ]
      },
      {
       "output_type": "stream",
       "stream": "stdout",
       "text": [
        "\n",
        "query: {'q': '\"President Reagan\"', 'start_date': '19880901', 'end_date': '19880930'}\n",
        "query list index: 407\n",
        "hits: 235\n",
        "offset: 200\n",
        "\n",
        "TOO MANY QUERIES"
       ]
      },
      {
       "output_type": "stream",
       "stream": "stdout",
       "text": [
        "\n",
        "query: {'q': '\"President Reagan\"', 'start_date': '19880901', 'end_date': '19880930'}\n",
        "query list index: 407\n",
        "hits: 235\n",
        "offset: 210\n",
        "\n",
        "TOO MANY QUERIES"
       ]
      },
      {
       "output_type": "stream",
       "stream": "stdout",
       "text": [
        "\n",
        "query: {'q': '\"President Reagan\"', 'start_date': '19880901', 'end_date': '19880930'}\n",
        "query list index: 407\n",
        "hits: 235\n",
        "offset: 220\n",
        "\n",
        "TOO MANY QUERIES"
       ]
      },
      {
       "output_type": "stream",
       "stream": "stdout",
       "text": [
        "\n",
        "query: {'q': '\"President Reagan\"', 'start_date': '19880901', 'end_date': '19880930'}\n",
        "query list index: 407\n",
        "hits: 235\n",
        "offset: 230\n",
        "\n",
        "Current Query:"
       ]
      },
      {
       "output_type": "stream",
       "stream": "stdout",
       "text": [
        " 408\n",
        "TOO MANY QUERIES"
       ]
      },
      {
       "output_type": "stream",
       "stream": "stdout",
       "text": [
        "\n",
        "query: {'q': '\"President Reagan\"', 'start_date': '19881001', 'end_date': '19881031'}\n",
        "query list index: 408\n",
        "hits: 255\n",
        "offset: 0\n",
        "\n",
        "TOO MANY QUERIES"
       ]
      },
      {
       "output_type": "stream",
       "stream": "stdout",
       "text": [
        "\n",
        "query: {'q': '\"President Reagan\"', 'start_date': '19881001', 'end_date': '19881031'}\n",
        "query list index: 408\n",
        "hits: 255\n",
        "offset: 10\n",
        "\n",
        "TOO MANY QUERIES"
       ]
      },
      {
       "output_type": "stream",
       "stream": "stdout",
       "text": [
        "\n",
        "query: {'q': '\"President Reagan\"', 'start_date': '19881001', 'end_date': '19881031'}\n",
        "query list index: 408\n",
        "hits: 255\n",
        "offset: 20\n",
        "\n",
        "TOO MANY QUERIES"
       ]
      },
      {
       "output_type": "stream",
       "stream": "stdout",
       "text": [
        "\n",
        "query: {'q': '\"President Reagan\"', 'start_date': '19881001', 'end_date': '19881031'}\n",
        "query list index: 408\n",
        "hits: 255\n",
        "offset: 30\n",
        "\n",
        "TOO MANY QUERIES"
       ]
      },
      {
       "output_type": "stream",
       "stream": "stdout",
       "text": [
        "\n",
        "query: {'q': '\"President Reagan\"', 'start_date': '19881001', 'end_date': '19881031'}\n",
        "query list index: 408\n",
        "hits: 255\n",
        "offset: 40\n",
        "\n",
        "INSERT ERROR"
       ]
      },
      {
       "output_type": "stream",
       "stream": "stdout",
       "text": [
        "\n",
        "query: {'q': '\"President Reagan\"', 'start_date': '19881001', 'end_date': '19881031'}\n",
        "pages: 5\n",
        "Status: OK\n",
        "Number of Articles: 10\n",
        "\n",
        "TOO MANY QUERIES\n",
        "query: {'q': '\"President Reagan\"', 'start_date': '19881001', 'end_date': '19881031'}\n",
        "query list index: 408\n",
        "hits: 255\n",
        "offset: 50\n",
        "\n",
        "INSERT ERROR"
       ]
      },
      {
       "output_type": "stream",
       "stream": "stdout",
       "text": [
        "\n",
        "query: {'q': '\"President Reagan\"', 'start_date': '19881001', 'end_date': '19881031'}\n",
        "pages: 6\n",
        "Status: OK\n",
        "Number of Articles: 10\n",
        "\n",
        "TOO MANY QUERIES\n",
        "query: {'q': '\"President Reagan\"', 'start_date': '19881001', 'end_date': '19881031'}\n",
        "query list index: 408\n",
        "hits: 255\n",
        "offset: 60\n",
        "\n",
        "INSERT ERROR"
       ]
      },
      {
       "output_type": "stream",
       "stream": "stdout",
       "text": [
        "\n",
        "query: {'q': '\"President Reagan\"', 'start_date': '19881001', 'end_date': '19881031'}\n",
        "pages: 7\n",
        "Status: OK\n",
        "Number of Articles: 10\n",
        "\n",
        "TOO MANY QUERIES\n",
        "query: {'q': '\"President Reagan\"', 'start_date': '19881001', 'end_date': '19881031'}\n",
        "query list index: 408\n",
        "hits: 255\n",
        "offset: 70\n",
        "\n",
        "TOO MANY QUERIES"
       ]
      },
      {
       "output_type": "stream",
       "stream": "stdout",
       "text": [
        "\n",
        "query: {'q': '\"President Reagan\"', 'start_date': '19881001', 'end_date': '19881031'}\n",
        "query list index: 408\n",
        "hits: 255\n",
        "offset: 80\n",
        "\n",
        "INSERT ERROR"
       ]
      },
      {
       "output_type": "stream",
       "stream": "stdout",
       "text": [
        "\n",
        "query: {'q': '\"President Reagan\"', 'start_date': '19881001', 'end_date': '19881031'}\n",
        "pages: 9\n",
        "Status: OK\n",
        "Number of Articles: 10\n",
        "\n",
        "TOO MANY QUERIES\n",
        "query: {'q': '\"President Reagan\"', 'start_date': '19881001', 'end_date': '19881031'}\n",
        "query list index: 408\n",
        "hits: 255\n",
        "offset: 90\n",
        "\n",
        "TOO MANY QUERIES"
       ]
      },
      {
       "output_type": "stream",
       "stream": "stdout",
       "text": [
        "\n",
        "query: {'q': '\"President Reagan\"', 'start_date': '19881001', 'end_date': '19881031'}\n",
        "query list index: 408\n",
        "hits: 255\n",
        "offset: 100\n",
        "\n",
        "INSERT ERROR"
       ]
      },
      {
       "output_type": "stream",
       "stream": "stdout",
       "text": [
        "\n",
        "query: {'q': '\"President Reagan\"', 'start_date': '19881001', 'end_date': '19881031'}\n",
        "pages: 11\n",
        "Status: OK\n",
        "Number of Articles: 10\n",
        "\n",
        "TOO MANY QUERIES\n",
        "query: {'q': '\"President Reagan\"', 'start_date': '19881001', 'end_date': '19881031'}\n",
        "query list index: 408\n",
        "hits: 255\n",
        "offset: 110\n",
        "\n",
        "INSERT ERROR"
       ]
      },
      {
       "output_type": "stream",
       "stream": "stdout",
       "text": [
        "\n",
        "query: {'q': '\"President Reagan\"', 'start_date': '19881001', 'end_date': '19881031'}\n",
        "pages: 12\n",
        "Status: OK\n",
        "Number of Articles: 10\n",
        "\n",
        "TOO MANY QUERIES\n",
        "query: {'q': '\"President Reagan\"', 'start_date': '19881001', 'end_date': '19881031'}\n",
        "query list index: 408\n",
        "hits: 255\n",
        "offset: 120\n",
        "\n",
        "TOO MANY QUERIES"
       ]
      },
      {
       "output_type": "stream",
       "stream": "stdout",
       "text": [
        "\n",
        "query: {'q': '\"President Reagan\"', 'start_date': '19881001', 'end_date': '19881031'}\n",
        "query list index: 408\n",
        "hits: 255\n",
        "offset: 130\n",
        "\n",
        "INSERT ERROR"
       ]
      },
      {
       "output_type": "stream",
       "stream": "stdout",
       "text": [
        "\n",
        "query: {'q': '\"President Reagan\"', 'start_date': '19881001', 'end_date': '19881031'}\n",
        "pages: 14\n",
        "Status: OK\n",
        "Number of Articles: 10\n",
        "\n",
        "TOO MANY QUERIES\n",
        "query: {'q': '\"President Reagan\"', 'start_date': '19881001', 'end_date': '19881031'}\n",
        "query list index: 408\n",
        "hits: 255\n",
        "offset: 140\n",
        "\n",
        "TOO MANY QUERIES"
       ]
      },
      {
       "output_type": "stream",
       "stream": "stdout",
       "text": [
        "\n",
        "query: {'q': '\"President Reagan\"', 'start_date': '19881001', 'end_date': '19881031'}\n",
        "query list index: 408\n",
        "hits: 255\n",
        "offset: 150\n",
        "\n",
        "TOO MANY QUERIES"
       ]
      },
      {
       "output_type": "stream",
       "stream": "stdout",
       "text": [
        "\n",
        "query: {'q': '\"President Reagan\"', 'start_date': '19881001', 'end_date': '19881031'}\n",
        "query list index: 408\n",
        "hits: 255\n",
        "offset: 160\n",
        "\n",
        "TOO MANY QUERIES"
       ]
      },
      {
       "output_type": "stream",
       "stream": "stdout",
       "text": [
        "\n",
        "query: {'q': '\"President Reagan\"', 'start_date': '19881001', 'end_date': '19881031'}\n",
        "query list index: 408\n",
        "hits: 255\n",
        "offset: 170\n",
        "\n",
        "INSERT ERROR"
       ]
      },
      {
       "output_type": "stream",
       "stream": "stdout",
       "text": [
        "\n",
        "query: {'q': '\"President Reagan\"', 'start_date': '19881001', 'end_date': '19881031'}\n",
        "pages: 18\n",
        "Status: OK\n",
        "Number of Articles: 10\n",
        "\n",
        "TOO MANY QUERIES\n",
        "query: {'q': '\"President Reagan\"', 'start_date': '19881001', 'end_date': '19881031'}\n",
        "query list index: 408\n",
        "hits: 255\n",
        "offset: 180\n",
        "\n",
        "TOO MANY QUERIES"
       ]
      },
      {
       "output_type": "stream",
       "stream": "stdout",
       "text": [
        "\n",
        "query: {'q': '\"President Reagan\"', 'start_date': '19881001', 'end_date': '19881031'}\n",
        "query list index: 408\n",
        "hits: 255\n",
        "offset: 190\n",
        "\n",
        "TOO MANY QUERIES"
       ]
      },
      {
       "output_type": "stream",
       "stream": "stdout",
       "text": [
        "\n",
        "query: {'q': '\"President Reagan\"', 'start_date': '19881001', 'end_date': '19881031'}\n",
        "query list index: 408\n",
        "hits: 255\n",
        "offset: 200\n",
        "\n",
        "TOO MANY QUERIES"
       ]
      },
      {
       "output_type": "stream",
       "stream": "stdout",
       "text": [
        "\n",
        "query: {'q': '\"President Reagan\"', 'start_date': '19881001', 'end_date': '19881031'}\n",
        "query list index: 408\n",
        "hits: 255\n",
        "offset: 210\n",
        "\n",
        "TOO MANY QUERIES"
       ]
      },
      {
       "output_type": "stream",
       "stream": "stdout",
       "text": [
        "\n",
        "query: {'q': '\"President Reagan\"', 'start_date': '19881001', 'end_date': '19881031'}\n",
        "query list index: 408\n",
        "hits: 255\n",
        "offset: 220\n",
        "\n",
        "TOO MANY QUERIES"
       ]
      },
      {
       "output_type": "stream",
       "stream": "stdout",
       "text": [
        "\n",
        "query: {'q': '\"President Reagan\"', 'start_date': '19881001', 'end_date': '19881031'}\n",
        "query list index: 408\n",
        "hits: 255\n",
        "offset: 230\n",
        "\n",
        "TOO MANY QUERIES"
       ]
      },
      {
       "output_type": "stream",
       "stream": "stdout",
       "text": [
        "\n",
        "query: {'q': '\"President Reagan\"', 'start_date': '19881001', 'end_date': '19881031'}\n",
        "query list index: 408\n",
        "hits: 255\n",
        "offset: 240\n",
        "\n",
        "TOO MANY QUERIES"
       ]
      },
      {
       "output_type": "stream",
       "stream": "stdout",
       "text": [
        "\n",
        "query: {'q': '\"President Reagan\"', 'start_date': '19881001', 'end_date': '19881031'}\n",
        "query list index: 408\n",
        "hits: 255\n",
        "offset: 250\n",
        "\n",
        "Current Query:"
       ]
      },
      {
       "output_type": "stream",
       "stream": "stdout",
       "text": [
        " 409\n",
        "TOO MANY QUERIES"
       ]
      },
      {
       "output_type": "stream",
       "stream": "stdout",
       "text": [
        "\n",
        "query: {'q': '\"President Reagan\"', 'start_date': '19881101', 'end_date': '19881130'}\n",
        "query list index: 409\n",
        "hits: 295\n",
        "offset: 0\n",
        "\n",
        "TOO MANY QUERIES"
       ]
      },
      {
       "output_type": "stream",
       "stream": "stdout",
       "text": [
        "\n",
        "query: {'q': '\"President Reagan\"', 'start_date': '19881101', 'end_date': '19881130'}\n",
        "query list index: 409\n",
        "hits: 295\n",
        "offset: 10\n",
        "\n",
        "INSERT ERROR"
       ]
      },
      {
       "output_type": "stream",
       "stream": "stdout",
       "text": [
        "\n",
        "query: {'q': '\"President Reagan\"', 'start_date': '19881101', 'end_date': '19881130'}\n",
        "pages: 2\n",
        "Status: OK\n",
        "Number of Articles: 10\n",
        "\n",
        "TOO MANY QUERIES\n",
        "query: {'q': '\"President Reagan\"', 'start_date': '19881101', 'end_date': '19881130'}\n",
        "query list index: 409\n",
        "hits: 295\n",
        "offset: 20\n",
        "\n",
        "TOO MANY QUERIES"
       ]
      },
      {
       "output_type": "stream",
       "stream": "stdout",
       "text": [
        "\n",
        "query: {'q': '\"President Reagan\"', 'start_date': '19881101', 'end_date': '19881130'}\n",
        "query list index: 409\n",
        "hits: 295\n",
        "offset: 30\n",
        "\n",
        "TOO MANY QUERIES"
       ]
      },
      {
       "output_type": "stream",
       "stream": "stdout",
       "text": [
        "\n",
        "query: {'q': '\"President Reagan\"', 'start_date': '19881101', 'end_date': '19881130'}\n",
        "query list index: 409\n",
        "hits: 295\n",
        "offset: 40\n",
        "\n",
        "TOO MANY QUERIES"
       ]
      },
      {
       "output_type": "stream",
       "stream": "stdout",
       "text": [
        "\n",
        "query: {'q': '\"President Reagan\"', 'start_date': '19881101', 'end_date': '19881130'}\n",
        "query list index: 409\n",
        "hits: 295\n",
        "offset: 50\n",
        "\n",
        "TOO MANY QUERIES"
       ]
      },
      {
       "output_type": "stream",
       "stream": "stdout",
       "text": [
        "\n",
        "query: {'q': '\"President Reagan\"', 'start_date': '19881101', 'end_date': '19881130'}\n",
        "query list index: 409\n",
        "hits: 295\n",
        "offset: 60\n",
        "\n",
        "TOO MANY QUERIES"
       ]
      },
      {
       "output_type": "stream",
       "stream": "stdout",
       "text": [
        "\n",
        "query: {'q': '\"President Reagan\"', 'start_date': '19881101', 'end_date': '19881130'}\n",
        "query list index: 409\n",
        "hits: 295\n",
        "offset: 70\n",
        "\n",
        "TOO MANY QUERIES"
       ]
      },
      {
       "output_type": "stream",
       "stream": "stdout",
       "text": [
        "\n",
        "query: {'q': '\"President Reagan\"', 'start_date': '19881101', 'end_date': '19881130'}\n",
        "query list index: 409\n",
        "hits: 295\n",
        "offset: 80\n",
        "\n",
        "TOO MANY QUERIES"
       ]
      },
      {
       "output_type": "stream",
       "stream": "stdout",
       "text": [
        "\n",
        "query: {'q': '\"President Reagan\"', 'start_date': '19881101', 'end_date': '19881130'}\n",
        "query list index: 409\n",
        "hits: 295\n",
        "offset: 90\n",
        "\n",
        "INSERT ERROR"
       ]
      },
      {
       "output_type": "stream",
       "stream": "stdout",
       "text": [
        "\n",
        "query: {'q': '\"President Reagan\"', 'start_date': '19881101', 'end_date': '19881130'}\n",
        "pages: 10\n",
        "Status: OK\n",
        "Number of Articles: 10\n",
        "\n",
        "TOO MANY QUERIES\n",
        "query: {'q': '\"President Reagan\"', 'start_date': '19881101', 'end_date': '19881130'}\n",
        "query list index: 409\n",
        "hits: 295\n",
        "offset: 100\n",
        "\n",
        "INSERT ERROR"
       ]
      },
      {
       "output_type": "stream",
       "stream": "stdout",
       "text": [
        "\n",
        "query: {'q': '\"President Reagan\"', 'start_date': '19881101', 'end_date': '19881130'}\n",
        "pages: 11\n",
        "Status: OK\n",
        "Number of Articles: 10\n",
        "\n",
        "TOO MANY QUERIES\n",
        "query: {'q': '\"President Reagan\"', 'start_date': '19881101', 'end_date': '19881130'}\n",
        "query list index: 409\n",
        "hits: 295\n",
        "offset: 110\n",
        "\n",
        "TOO MANY QUERIES"
       ]
      },
      {
       "output_type": "stream",
       "stream": "stdout",
       "text": [
        "\n",
        "query: {'q': '\"President Reagan\"', 'start_date': '19881101', 'end_date': '19881130'}\n",
        "query list index: 409\n",
        "hits: 295\n",
        "offset: 120\n",
        "\n",
        "TOO MANY QUERIES"
       ]
      },
      {
       "output_type": "stream",
       "stream": "stdout",
       "text": [
        "\n",
        "query: {'q': '\"President Reagan\"', 'start_date': '19881101', 'end_date': '19881130'}\n",
        "query list index: 409\n",
        "hits: 295\n",
        "offset: 130\n",
        "\n",
        "TOO MANY QUERIES"
       ]
      },
      {
       "output_type": "stream",
       "stream": "stdout",
       "text": [
        "\n",
        "query: {'q': '\"President Reagan\"', 'start_date': '19881101', 'end_date': '19881130'}\n",
        "query list index: 409\n",
        "hits: 295\n",
        "offset: 140\n",
        "\n",
        "TOO MANY QUERIES"
       ]
      },
      {
       "output_type": "stream",
       "stream": "stdout",
       "text": [
        "\n",
        "query: {'q': '\"President Reagan\"', 'start_date': '19881101', 'end_date': '19881130'}\n",
        "query list index: 409\n",
        "hits: 295\n",
        "offset: 150\n",
        "\n",
        "TOO MANY QUERIES"
       ]
      },
      {
       "output_type": "stream",
       "stream": "stdout",
       "text": [
        "\n",
        "query: {'q': '\"President Reagan\"', 'start_date': '19881101', 'end_date': '19881130'}\n",
        "query list index: 409\n",
        "hits: 295\n",
        "offset: 160\n",
        "\n",
        "INSERT ERROR"
       ]
      },
      {
       "output_type": "stream",
       "stream": "stdout",
       "text": [
        "\n",
        "query: {'q': '\"President Reagan\"', 'start_date': '19881101', 'end_date': '19881130'}\n",
        "pages: 17\n",
        "Status: OK\n",
        "Number of Articles: 10\n",
        "\n",
        "TOO MANY QUERIES\n",
        "query: {'q': '\"President Reagan\"', 'start_date': '19881101', 'end_date': '19881130'}\n",
        "query list index: 409\n",
        "hits: 295\n",
        "offset: 170\n",
        "\n",
        "INSERT ERROR"
       ]
      },
      {
       "output_type": "stream",
       "stream": "stdout",
       "text": [
        "\n",
        "query: {'q': '\"President Reagan\"', 'start_date': '19881101', 'end_date': '19881130'}\n",
        "pages: 18\n",
        "Status: OK\n",
        "Number of Articles: 10\n",
        "\n",
        "TOO MANY QUERIES\n",
        "query: {'q': '\"President Reagan\"', 'start_date': '19881101', 'end_date': '19881130'}\n",
        "query list index: 409\n",
        "hits: 295\n",
        "offset: 180\n",
        "\n",
        "INSERT ERROR"
       ]
      },
      {
       "output_type": "stream",
       "stream": "stdout",
       "text": [
        "\n",
        "query: {'q': '\"President Reagan\"', 'start_date': '19881101', 'end_date': '19881130'}\n",
        "pages: 19\n",
        "Status: OK\n",
        "Number of Articles: 10\n",
        "\n",
        "TOO MANY QUERIES\n",
        "query: {'q': '\"President Reagan\"', 'start_date': '19881101', 'end_date': '19881130'}\n",
        "query list index: 409\n",
        "hits: 295\n",
        "offset: 190\n",
        "\n",
        "TOO MANY QUERIES"
       ]
      },
      {
       "output_type": "stream",
       "stream": "stdout",
       "text": [
        "\n",
        "query: {'q': '\"President Reagan\"', 'start_date': '19881101', 'end_date': '19881130'}\n",
        "query list index: 409\n",
        "hits: 295\n",
        "offset: 200\n",
        "\n",
        "TOO MANY QUERIES"
       ]
      },
      {
       "output_type": "stream",
       "stream": "stdout",
       "text": [
        "\n",
        "query: {'q': '\"President Reagan\"', 'start_date': '19881101', 'end_date': '19881130'}\n",
        "query list index: 409\n",
        "hits: 295\n",
        "offset: 210\n",
        "\n",
        "INSERT ERROR"
       ]
      },
      {
       "output_type": "stream",
       "stream": "stdout",
       "text": [
        "\n",
        "query: {'q': '\"President Reagan\"', 'start_date': '19881101', 'end_date': '19881130'}\n",
        "pages: 22\n",
        "Status: OK\n",
        "Number of Articles: 10\n",
        "\n",
        "TOO MANY QUERIES\n",
        "query: {'q': '\"President Reagan\"', 'start_date': '19881101', 'end_date': '19881130'}\n",
        "query list index: 409\n",
        "hits: 295\n",
        "offset: 220\n",
        "\n",
        "TOO MANY QUERIES"
       ]
      },
      {
       "output_type": "stream",
       "stream": "stdout",
       "text": [
        "\n",
        "query: {'q': '\"President Reagan\"', 'start_date': '19881101', 'end_date': '19881130'}\n",
        "query list index: 409\n",
        "hits: 295\n",
        "offset: 230\n",
        "\n",
        "TOO MANY QUERIES"
       ]
      },
      {
       "output_type": "stream",
       "stream": "stdout",
       "text": [
        "\n",
        "query: {'q': '\"President Reagan\"', 'start_date': '19881101', 'end_date': '19881130'}\n",
        "query list index: 409\n",
        "hits: 295\n",
        "offset: 240\n",
        "\n",
        "TOO MANY QUERIES"
       ]
      },
      {
       "output_type": "stream",
       "stream": "stdout",
       "text": [
        "\n",
        "query: {'q': '\"President Reagan\"', 'start_date': '19881101', 'end_date': '19881130'}\n",
        "query list index: 409\n",
        "hits: 295\n",
        "offset: 250\n",
        "\n",
        "INSERT ERROR"
       ]
      },
      {
       "output_type": "stream",
       "stream": "stdout",
       "text": [
        "\n",
        "query: {'q': '\"President Reagan\"', 'start_date': '19881101', 'end_date': '19881130'}\n",
        "pages: 26\n",
        "Status: OK\n",
        "Number of Articles: 10\n",
        "\n",
        "TOO MANY QUERIES\n",
        "query: {'q': '\"President Reagan\"', 'start_date': '19881101', 'end_date': '19881130'}\n",
        "query list index: 409\n",
        "hits: 295\n",
        "offset: 260\n",
        "\n",
        "TOO MANY QUERIES"
       ]
      },
      {
       "output_type": "stream",
       "stream": "stdout",
       "text": [
        "\n",
        "query: {'q': '\"President Reagan\"', 'start_date': '19881101', 'end_date': '19881130'}\n",
        "query list index: 409\n",
        "hits: 295\n",
        "offset: 270\n",
        "\n",
        "TOO MANY QUERIES"
       ]
      },
      {
       "output_type": "stream",
       "stream": "stdout",
       "text": [
        "\n",
        "query: {'q': '\"President Reagan\"', 'start_date': '19881101', 'end_date': '19881130'}\n",
        "query list index: 409\n",
        "hits: 295\n",
        "offset: 280\n",
        "\n",
        "TOO MANY QUERIES"
       ]
      },
      {
       "output_type": "stream",
       "stream": "stdout",
       "text": [
        "\n",
        "query: {'q': '\"President Reagan\"', 'start_date': '19881101', 'end_date': '19881130'}\n",
        "query list index: 409\n",
        "hits: 295\n",
        "offset: 290\n",
        "\n",
        "Current Query:"
       ]
      },
      {
       "output_type": "stream",
       "stream": "stdout",
       "text": [
        " 410\n",
        "TOO MANY QUERIES"
       ]
      },
      {
       "output_type": "stream",
       "stream": "stdout",
       "text": [
        "\n",
        "query: {'q': '\"President Reagan\"', 'start_date': '19881201', 'end_date': '19881231'}\n",
        "query list index: 410\n",
        "hits: 241\n",
        "offset: 0\n",
        "\n",
        "TOO MANY QUERIES"
       ]
      },
      {
       "output_type": "stream",
       "stream": "stdout",
       "text": [
        "\n",
        "query: {'q': '\"President Reagan\"', 'start_date': '19881201', 'end_date': '19881231'}\n",
        "query list index: 410\n",
        "hits: 241\n",
        "offset: 10\n",
        "\n",
        "INSERT ERROR"
       ]
      },
      {
       "output_type": "stream",
       "stream": "stdout",
       "text": [
        "\n",
        "query: {'q': '\"President Reagan\"', 'start_date': '19881201', 'end_date': '19881231'}\n",
        "pages: 2\n",
        "Status: OK\n",
        "Number of Articles: 10\n",
        "\n",
        "TOO MANY QUERIES\n",
        "query: {'q': '\"President Reagan\"', 'start_date': '19881201', 'end_date': '19881231'}\n",
        "query list index: 410\n",
        "hits: 241\n",
        "offset: 20\n",
        "\n",
        "TOO MANY QUERIES"
       ]
      },
      {
       "output_type": "stream",
       "stream": "stdout",
       "text": [
        "\n",
        "query: {'q': '\"President Reagan\"', 'start_date': '19881201', 'end_date': '19881231'}\n",
        "query list index: 410\n",
        "hits: 241\n",
        "offset: 30\n",
        "\n",
        "TOO MANY QUERIES"
       ]
      },
      {
       "output_type": "stream",
       "stream": "stdout",
       "text": [
        "\n",
        "query: {'q': '\"President Reagan\"', 'start_date': '19881201', 'end_date': '19881231'}\n",
        "query list index: 410\n",
        "hits: 241\n",
        "offset: 40\n",
        "\n",
        "INSERT ERROR"
       ]
      },
      {
       "output_type": "stream",
       "stream": "stdout",
       "text": [
        "\n",
        "query: {'q': '\"President Reagan\"', 'start_date': '19881201', 'end_date': '19881231'}\n",
        "pages: 5\n",
        "Status: OK\n",
        "Number of Articles: 10\n",
        "\n",
        "TOO MANY QUERIES\n",
        "query: {'q': '\"President Reagan\"', 'start_date': '19881201', 'end_date': '19881231'}\n",
        "query list index: 410\n",
        "hits: 241\n",
        "offset: 50\n",
        "\n",
        "TOO MANY QUERIES"
       ]
      },
      {
       "output_type": "stream",
       "stream": "stdout",
       "text": [
        "\n",
        "query: {'q': '\"President Reagan\"', 'start_date': '19881201', 'end_date': '19881231'}\n",
        "query list index: 410\n",
        "hits: 241\n",
        "offset: 60\n",
        "\n",
        "INSERT ERROR"
       ]
      },
      {
       "output_type": "stream",
       "stream": "stdout",
       "text": [
        "\n",
        "query: {'q': '\"President Reagan\"', 'start_date': '19881201', 'end_date': '19881231'}\n",
        "pages: 7\n",
        "Status: OK\n",
        "Number of Articles: 10\n",
        "\n",
        "TOO MANY QUERIES\n",
        "query: {'q': '\"President Reagan\"', 'start_date': '19881201', 'end_date': '19881231'}\n",
        "query list index: 410\n",
        "hits: 241\n",
        "offset: 70\n",
        "\n",
        "TOO MANY QUERIES"
       ]
      },
      {
       "output_type": "stream",
       "stream": "stdout",
       "text": [
        "\n",
        "query: {'q': '\"President Reagan\"', 'start_date': '19881201', 'end_date': '19881231'}\n",
        "query list index: 410\n",
        "hits: 241\n",
        "offset: 80\n",
        "\n",
        "TOO MANY QUERIES"
       ]
      },
      {
       "output_type": "stream",
       "stream": "stdout",
       "text": [
        "\n",
        "query: {'q': '\"President Reagan\"', 'start_date': '19881201', 'end_date': '19881231'}\n",
        "query list index: 410\n",
        "hits: 241\n",
        "offset: 90\n",
        "\n",
        "INSERT ERROR"
       ]
      },
      {
       "output_type": "stream",
       "stream": "stdout",
       "text": [
        "\n",
        "query: {'q': '\"President Reagan\"', 'start_date': '19881201', 'end_date': '19881231'}\n",
        "pages: 10\n",
        "Status: OK\n",
        "Number of Articles: 10\n",
        "\n",
        "TOO MANY QUERIES\n",
        "query: {'q': '\"President Reagan\"', 'start_date': '19881201', 'end_date': '19881231'}\n",
        "query list index: 410\n",
        "hits: 241\n",
        "offset: 100\n",
        "\n",
        "INSERT ERROR"
       ]
      },
      {
       "output_type": "stream",
       "stream": "stdout",
       "text": [
        "\n",
        "query: {'q': '\"President Reagan\"', 'start_date': '19881201', 'end_date': '19881231'}\n",
        "pages: 11\n",
        "Status: OK\n",
        "Number of Articles: 10\n",
        "\n",
        "TOO MANY QUERIES\n",
        "query: {'q': '\"President Reagan\"', 'start_date': '19881201', 'end_date': '19881231'}\n",
        "query list index: 410\n",
        "hits: 241\n",
        "offset: 110\n",
        "\n",
        "TOO MANY QUERIES"
       ]
      },
      {
       "output_type": "stream",
       "stream": "stdout",
       "text": [
        "\n",
        "query: {'q': '\"President Reagan\"', 'start_date': '19881201', 'end_date': '19881231'}\n",
        "query list index: 410\n",
        "hits: 241\n",
        "offset: 120\n",
        "\n",
        "TOO MANY QUERIES"
       ]
      },
      {
       "output_type": "stream",
       "stream": "stdout",
       "text": [
        "\n",
        "query: {'q': '\"President Reagan\"', 'start_date': '19881201', 'end_date': '19881231'}\n",
        "query list index: 410\n",
        "hits: 241\n",
        "offset: 130\n",
        "\n",
        "TOO MANY QUERIES"
       ]
      },
      {
       "output_type": "stream",
       "stream": "stdout",
       "text": [
        "\n",
        "query: {'q': '\"President Reagan\"', 'start_date': '19881201', 'end_date': '19881231'}\n",
        "query list index: 410\n",
        "hits: 241\n",
        "offset: 140\n",
        "\n",
        "TOO MANY QUERIES"
       ]
      },
      {
       "output_type": "stream",
       "stream": "stdout",
       "text": [
        "\n",
        "query: {'q': '\"President Reagan\"', 'start_date': '19881201', 'end_date': '19881231'}\n",
        "query list index: 410\n",
        "hits: 241\n",
        "offset: 150\n",
        "\n",
        "TOO MANY QUERIES"
       ]
      },
      {
       "output_type": "stream",
       "stream": "stdout",
       "text": [
        "\n",
        "query: {'q': '\"President Reagan\"', 'start_date': '19881201', 'end_date': '19881231'}\n",
        "query list index: 410\n",
        "hits: 241\n",
        "offset: 160\n",
        "\n",
        "INSERT ERROR"
       ]
      },
      {
       "output_type": "stream",
       "stream": "stdout",
       "text": [
        "\n",
        "query: {'q': '\"President Reagan\"', 'start_date': '19881201', 'end_date': '19881231'}\n",
        "pages: 17\n",
        "Status: OK\n",
        "Number of Articles: 10\n",
        "\n",
        "TOO MANY QUERIES\n",
        "query: {'q': '\"President Reagan\"', 'start_date': '19881201', 'end_date': '19881231'}\n",
        "query list index: 410\n",
        "hits: 241\n",
        "offset: 170\n",
        "\n",
        "TOO MANY QUERIES"
       ]
      },
      {
       "output_type": "stream",
       "stream": "stdout",
       "text": [
        "\n",
        "query: {'q': '\"President Reagan\"', 'start_date': '19881201', 'end_date': '19881231'}\n",
        "query list index: 410\n",
        "hits: 241\n",
        "offset: 180\n",
        "\n",
        "TOO MANY QUERIES"
       ]
      },
      {
       "output_type": "stream",
       "stream": "stdout",
       "text": [
        "\n",
        "query: {'q': '\"President Reagan\"', 'start_date': '19881201', 'end_date': '19881231'}\n",
        "query list index: 410\n",
        "hits: 241\n",
        "offset: 190\n",
        "\n",
        "TOO MANY QUERIES"
       ]
      },
      {
       "output_type": "stream",
       "stream": "stdout",
       "text": [
        "\n",
        "query: {'q': '\"President Reagan\"', 'start_date': '19881201', 'end_date': '19881231'}\n",
        "query list index: 410\n",
        "hits: 241\n",
        "offset: 200\n",
        "\n",
        "TOO MANY QUERIES"
       ]
      },
      {
       "output_type": "stream",
       "stream": "stdout",
       "text": [
        "\n",
        "query: {'q': '\"President Reagan\"', 'start_date': '19881201', 'end_date': '19881231'}\n",
        "query list index: 410\n",
        "hits: 241\n",
        "offset: 210\n",
        "\n",
        "TOO MANY QUERIES"
       ]
      },
      {
       "output_type": "stream",
       "stream": "stdout",
       "text": [
        "\n",
        "query: {'q': '\"President Reagan\"', 'start_date': '19881201', 'end_date': '19881231'}\n",
        "query list index: 410\n",
        "hits: 241\n",
        "offset: 220\n",
        "\n",
        "TOO MANY QUERIES"
       ]
      },
      {
       "output_type": "stream",
       "stream": "stdout",
       "text": [
        "\n",
        "query: {'q': '\"President Reagan\"', 'start_date': '19881201', 'end_date': '19881231'}\n",
        "query list index: 410\n",
        "hits: 241\n",
        "offset: 230\n",
        "\n",
        "INSERT ERROR"
       ]
      },
      {
       "output_type": "stream",
       "stream": "stdout",
       "text": [
        "\n",
        "query: {'q': '\"President Reagan\"', 'start_date': '19881201', 'end_date': '19881231'}\n",
        "pages: 24\n",
        "Status: OK\n",
        "Number of Articles: 1\n",
        "\n",
        "TOO MANY QUERIES\n",
        "query: {'q': '\"President Reagan\"', 'start_date': '19881201', 'end_date': '19881231'}\n",
        "query list index: 410\n",
        "hits: 241\n",
        "offset: 240\n",
        "\n",
        "Current Query:"
       ]
      },
      {
       "output_type": "stream",
       "stream": "stdout",
       "text": [
        " 411\n",
        "TOO MANY QUERIES"
       ]
      },
      {
       "output_type": "stream",
       "stream": "stdout",
       "text": [
        "\n",
        "query: {'q': '\"President Reagan\"', 'start_date': '19890101', 'end_date': '19890119'}\n",
        "query list index: 411\n",
        "hits: 198\n",
        "offset: 0\n",
        "\n",
        "TOO MANY QUERIES"
       ]
      },
      {
       "output_type": "stream",
       "stream": "stdout",
       "text": [
        "\n",
        "query: {'q': '\"President Reagan\"', 'start_date': '19890101', 'end_date': '19890119'}\n",
        "query list index: 411\n",
        "hits: 198\n",
        "offset: 10\n",
        "\n",
        "TOO MANY QUERIES"
       ]
      },
      {
       "output_type": "stream",
       "stream": "stdout",
       "text": [
        "\n",
        "query: {'q': '\"President Reagan\"', 'start_date': '19890101', 'end_date': '19890119'}\n",
        "query list index: 411\n",
        "hits: 198\n",
        "offset: 20\n",
        "\n",
        "INSERT ERROR"
       ]
      },
      {
       "output_type": "stream",
       "stream": "stdout",
       "text": [
        "\n",
        "query: {'q': '\"President Reagan\"', 'start_date': '19890101', 'end_date': '19890119'}\n",
        "pages: 3\n",
        "Status: OK\n",
        "Number of Articles: 10\n",
        "\n",
        "TOO MANY QUERIES\n",
        "query: {'q': '\"President Reagan\"', 'start_date': '19890101', 'end_date': '19890119'}\n",
        "query list index: 411\n",
        "hits: 198\n",
        "offset: 30\n",
        "\n",
        "TOO MANY QUERIES"
       ]
      },
      {
       "output_type": "stream",
       "stream": "stdout",
       "text": [
        "\n",
        "query: {'q': '\"President Reagan\"', 'start_date': '19890101', 'end_date': '19890119'}\n",
        "query list index: 411\n",
        "hits: 198\n",
        "offset: 40\n",
        "\n",
        "TOO MANY QUERIES"
       ]
      },
      {
       "output_type": "stream",
       "stream": "stdout",
       "text": [
        "\n",
        "query: {'q': '\"President Reagan\"', 'start_date': '19890101', 'end_date': '19890119'}\n",
        "query list index: 411\n",
        "hits: 198\n",
        "offset: 50\n",
        "\n",
        "TOO MANY QUERIES"
       ]
      },
      {
       "output_type": "stream",
       "stream": "stdout",
       "text": [
        "\n",
        "query: {'q': '\"President Reagan\"', 'start_date': '19890101', 'end_date': '19890119'}\n",
        "query list index: 411\n",
        "hits: 198\n",
        "offset: 60\n",
        "\n",
        "INSERT ERROR"
       ]
      },
      {
       "output_type": "stream",
       "stream": "stdout",
       "text": [
        "\n",
        "query: {'q': '\"President Reagan\"', 'start_date': '19890101', 'end_date': '19890119'}\n",
        "pages: 7\n",
        "Status: OK\n",
        "Number of Articles: 10\n",
        "\n",
        "TOO MANY QUERIES\n",
        "query: {'q': '\"President Reagan\"', 'start_date': '19890101', 'end_date': '19890119'}\n",
        "query list index: 411\n",
        "hits: 198\n",
        "offset: 70\n",
        "\n",
        "TOO MANY QUERIES"
       ]
      },
      {
       "output_type": "stream",
       "stream": "stdout",
       "text": [
        "\n",
        "query: {'q': '\"President Reagan\"', 'start_date': '19890101', 'end_date': '19890119'}\n",
        "query list index: 411\n",
        "hits: 198\n",
        "offset: 80\n",
        "\n",
        "TOO MANY QUERIES"
       ]
      },
      {
       "output_type": "stream",
       "stream": "stdout",
       "text": [
        "\n",
        "query: {'q': '\"President Reagan\"', 'start_date': '19890101', 'end_date': '19890119'}\n",
        "query list index: 411\n",
        "hits: 198\n",
        "offset: 90\n",
        "\n",
        "TOO MANY QUERIES"
       ]
      },
      {
       "output_type": "stream",
       "stream": "stdout",
       "text": [
        "\n",
        "query: {'q': '\"President Reagan\"', 'start_date': '19890101', 'end_date': '19890119'}\n",
        "query list index: 411\n",
        "hits: 198\n",
        "offset: 100\n",
        "\n",
        "TOO MANY QUERIES"
       ]
      },
      {
       "output_type": "stream",
       "stream": "stdout",
       "text": [
        "\n",
        "query: {'q': '\"President Reagan\"', 'start_date': '19890101', 'end_date': '19890119'}\n",
        "query list index: 411\n",
        "hits: 198\n",
        "offset: 110\n",
        "\n",
        "TOO MANY QUERIES"
       ]
      },
      {
       "output_type": "stream",
       "stream": "stdout",
       "text": [
        "\n",
        "query: {'q': '\"President Reagan\"', 'start_date': '19890101', 'end_date': '19890119'}\n",
        "query list index: 411\n",
        "hits: 198\n",
        "offset: 120\n",
        "\n",
        "TOO MANY QUERIES"
       ]
      },
      {
       "output_type": "stream",
       "stream": "stdout",
       "text": [
        "\n",
        "query: {'q': '\"President Reagan\"', 'start_date': '19890101', 'end_date': '19890119'}\n",
        "query list index: 411\n",
        "hits: 198\n",
        "offset: 130\n",
        "\n",
        "INSERT ERROR"
       ]
      },
      {
       "output_type": "stream",
       "stream": "stdout",
       "text": [
        "\n",
        "query: {'q': '\"President Reagan\"', 'start_date': '19890101', 'end_date': '19890119'}\n",
        "pages: 14\n",
        "Status: OK\n",
        "Number of Articles: 10\n",
        "\n",
        "TOO MANY QUERIES\n",
        "query: {'q': '\"President Reagan\"', 'start_date': '19890101', 'end_date': '19890119'}\n",
        "query list index: 411\n",
        "hits: 198\n",
        "offset: 140\n",
        "\n",
        "TOO MANY QUERIES"
       ]
      },
      {
       "output_type": "stream",
       "stream": "stdout",
       "text": [
        "\n",
        "query: {'q': '\"President Reagan\"', 'start_date': '19890101', 'end_date': '19890119'}\n",
        "query list index: 411\n",
        "hits: 198\n",
        "offset: 150\n",
        "\n",
        "INSERT ERROR"
       ]
      },
      {
       "output_type": "stream",
       "stream": "stdout",
       "text": [
        "\n",
        "query: {'q': '\"President Reagan\"', 'start_date': '19890101', 'end_date': '19890119'}\n",
        "pages: 16\n",
        "Status: OK\n",
        "Number of Articles: 10\n",
        "\n",
        "TOO MANY QUERIES\n",
        "query: {'q': '\"President Reagan\"', 'start_date': '19890101', 'end_date': '19890119'}\n",
        "query list index: 411\n",
        "hits: 198\n",
        "offset: 160\n",
        "\n",
        "INSERT ERROR"
       ]
      },
      {
       "output_type": "stream",
       "stream": "stdout",
       "text": [
        "\n",
        "query: {'q': '\"President Reagan\"', 'start_date': '19890101', 'end_date': '19890119'}\n",
        "pages: 17\n",
        "Status: OK\n",
        "Number of Articles: 10\n",
        "\n",
        "TOO MANY QUERIES\n",
        "query: {'q': '\"President Reagan\"', 'start_date': '19890101', 'end_date': '19890119'}\n",
        "query list index: 411\n",
        "hits: 198\n",
        "offset: 170\n",
        "\n",
        "INSERT ERROR"
       ]
      },
      {
       "output_type": "stream",
       "stream": "stdout",
       "text": [
        "\n",
        "query: {'q': '\"President Reagan\"', 'start_date': '19890101', 'end_date': '19890119'}\n",
        "pages: 18\n",
        "Status: OK\n",
        "Number of Articles: 10\n",
        "\n",
        "TOO MANY QUERIES\n",
        "query: {'q': '\"President Reagan\"', 'start_date': '19890101', 'end_date': '19890119'}\n",
        "query list index: 411\n",
        "hits: 198\n",
        "offset: 180\n",
        "\n",
        "TOO MANY QUERIES"
       ]
      },
      {
       "output_type": "stream",
       "stream": "stdout",
       "text": [
        "\n",
        "query: {'q': '\"President Reagan\"', 'start_date': '19890101', 'end_date': '19890119'}\n",
        "query list index: 411\n",
        "hits: 198\n",
        "offset: 190\n",
        "\n"
       ]
      }
     ],
     "prompt_number": 6
    },
    {
     "cell_type": "code",
     "collapsed": false,
     "input": [
      "articles['response']['meta']\n"
     ],
     "language": "python",
     "metadata": {},
     "outputs": [
      {
       "metadata": {},
       "output_type": "pyout",
       "prompt_number": 14,
       "text": [
        "{u'hits': 743, u'offset': 130, u'time': 40}"
       ]
      }
     ],
     "prompt_number": 14
    },
    {
     "cell_type": "code",
     "collapsed": false,
     "input": [
      "articles['status']"
     ],
     "language": "python",
     "metadata": {},
     "outputs": [
      {
       "metadata": {},
       "output_type": "pyout",
       "prompt_number": 20,
       "text": [
        "u'OK'"
       ]
      }
     ],
     "prompt_number": 20
    },
    {
     "cell_type": "code",
     "collapsed": false,
     "input": [
      "collection.count()"
     ],
     "language": "python",
     "metadata": {},
     "outputs": [
      {
       "metadata": {},
       "output_type": "pyout",
       "prompt_number": 51,
       "text": [
        "0"
       ]
      }
     ],
     "prompt_number": 51
    },
    {
     "cell_type": "code",
     "collapsed": false,
     "input": [
      "collection.remove()"
     ],
     "language": "python",
     "metadata": {},
     "outputs": [
      {
       "metadata": {},
       "output_type": "pyout",
       "prompt_number": 52,
       "text": [
        "{u'n': 0, u'ok': 1}"
       ]
      }
     ],
     "prompt_number": 52
    },
    {
     "cell_type": "code",
     "collapsed": false,
     "input": [
      "collection.count()"
     ],
     "language": "python",
     "metadata": {},
     "outputs": [
      {
       "metadata": {},
       "output_type": "pyout",
       "prompt_number": 38,
       "text": [
        "432"
       ]
      }
     ],
     "prompt_number": 38
    },
    {
     "cell_type": "code",
     "collapsed": false,
     "input": [
      "num_queries"
     ],
     "language": "python",
     "metadata": {},
     "outputs": [
      {
       "metadata": {},
       "output_type": "pyout",
       "prompt_number": 47,
       "text": [
        "45"
       ]
      }
     ],
     "prompt_number": 47
    },
    {
     "cell_type": "code",
     "collapsed": false,
     "input": [],
     "language": "python",
     "metadata": {},
     "outputs": []
    }
   ],
   "metadata": {}
  }
 ]
}