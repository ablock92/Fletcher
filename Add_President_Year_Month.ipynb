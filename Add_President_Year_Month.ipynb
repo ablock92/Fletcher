{
 "metadata": {
  "name": "",
  "signature": "sha256:b7b9d38aa2966d625047e39893e9b8454f011c781804ac2315b06913e3e862ac"
 },
 "nbformat": 3,
 "nbformat_minor": 0,
 "worksheets": [
  {
   "cells": [
    {
     "cell_type": "code",
     "collapsed": false,
     "input": [
      "from pymongo import MongoClient\n",
      "import dateutil.parser\n",
      "import datetime"
     ],
     "language": "python",
     "metadata": {},
     "outputs": [],
     "prompt_number": 7
    },
    {
     "cell_type": "code",
     "collapsed": false,
     "input": [
      "client = MongoClient('mongodb://localhost:27017/')\n",
      "db = client.Fletcher_db\n",
      "collection = db.presidential_articles"
     ],
     "language": "python",
     "metadata": {},
     "outputs": [],
     "prompt_number": 8
    },
    {
     "cell_type": "code",
     "collapsed": false,
     "input": [
      "def get_president(date):\n",
      "    #months = range(1,13)\n",
      "    presidents = {\"Obama\":(datetime.datetime(2009,1,20),datetime.datetime.today()),\n",
      "              \"Bush Jr.\":(datetime.datetime(2001,1,20),datetime.datetime(2009,1,20)),\n",
      "              \"Clinton\":(datetime.datetime(1993,1,20),datetime.datetime(2001,1,20)),\n",
      "              \"Bush Sr.\":(datetime.datetime(1989,1,20),datetime.datetime(1993,1,20)),\n",
      "              \"Reagan\":(datetime.datetime(1981,1,20),datetime.datetime(1989,1,20))}\n",
      "    \n",
      "    \n",
      "    for key in presidents.keys():\n",
      "        if presidents[key][0]<=date.replace(tzinfo=None)<presidents[key][1]:\n",
      "            return key"
     ],
     "language": "python",
     "metadata": {},
     "outputs": [],
     "prompt_number": 9
    },
    {
     "cell_type": "code",
     "collapsed": false,
     "input": [
      "cursor = collection.find()\n",
      "for article in cursor:\n",
      "    date = dateutil.parser.parse(article['pub_date'])\n",
      "    year = date.year\n",
      "    month = date.month\n",
      "    president = get_president(date)\n",
      "    collection.update({'_id':article['_id']},{'$set':{\"President\":president,\"Year\":year,\"Month\":month}})"
     ],
     "language": "python",
     "metadata": {},
     "outputs": [],
     "prompt_number": 10
    },
    {
     "cell_type": "code",
     "collapsed": false,
     "input": [],
     "language": "python",
     "metadata": {},
     "outputs": []
    }
   ],
   "metadata": {}
  }
 ]
}