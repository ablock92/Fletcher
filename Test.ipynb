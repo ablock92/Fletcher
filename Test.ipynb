{
 "metadata": {
  "name": "",
  "signature": "sha256:a65cd6bbf72b2f2eb4fc71be75c53949f05d845559457dbc7be24dacb9a5ef64"
 },
 "nbformat": 3,
 "nbformat_minor": 0,
 "worksheets": [
  {
   "cells": [
    {
     "cell_type": "code",
     "collapsed": false,
     "input": [
      "from pymongo import MongoClient\n",
      "client = MongoClient('mongodb://localhost:27017/')\n",
      "\n",
      "db = client.Fletcher_db\n",
      "collection = db.test"
     ],
     "language": "python",
     "metadata": {},
     "outputs": [],
     "prompt_number": 1
    },
    {
     "cell_type": "code",
     "collapsed": false,
     "input": [
      "a=[]\n",
      "collection.insert(a)"
     ],
     "language": "python",
     "metadata": {},
     "outputs": [
      {
       "ename": "InvalidOperation",
       "evalue": "cannot do an empty bulk write",
       "output_type": "pyerr",
       "traceback": [
        "\u001b[0;31m---------------------------------------------------------------------------\u001b[0m\n\u001b[0;31mInvalidOperation\u001b[0m                          Traceback (most recent call last)",
        "\u001b[0;32m<ipython-input-3-280a5bb09e65>\u001b[0m in \u001b[0;36m<module>\u001b[0;34m()\u001b[0m\n\u001b[1;32m      1\u001b[0m \u001b[0ma\u001b[0m\u001b[0;34m=\u001b[0m\u001b[0;34m[\u001b[0m\u001b[0;34m]\u001b[0m\u001b[0;34m\u001b[0m\u001b[0m\n\u001b[0;32m----> 2\u001b[0;31m \u001b[0mcollection\u001b[0m\u001b[0;34m.\u001b[0m\u001b[0minsert\u001b[0m\u001b[0;34m(\u001b[0m\u001b[0ma\u001b[0m\u001b[0;34m)\u001b[0m\u001b[0;34m\u001b[0m\u001b[0m\n\u001b[0m",
        "\u001b[0;32m/usr/local/lib/python2.7/site-packages/pymongo/collection.pyc\u001b[0m in \u001b[0;36minsert\u001b[0;34m(self, doc_or_docs, manipulate, safe, check_keys, continue_on_error, **kwargs)\u001b[0m\n\u001b[1;32m    407\u001b[0m             results = message._do_batched_write_command(\n\u001b[1;32m    408\u001b[0m                     \u001b[0mself\u001b[0m\u001b[0;34m.\u001b[0m\u001b[0mdatabase\u001b[0m\u001b[0;34m.\u001b[0m\u001b[0mname\u001b[0m \u001b[0;34m+\u001b[0m \u001b[0;34m\".$cmd\"\u001b[0m\u001b[0;34m,\u001b[0m \u001b[0m_INSERT\u001b[0m\u001b[0;34m,\u001b[0m \u001b[0mcommand\u001b[0m\u001b[0;34m,\u001b[0m\u001b[0;34m\u001b[0m\u001b[0m\n\u001b[0;32m--> 409\u001b[0;31m                     gen(), check_keys, self.uuid_subtype, client)\n\u001b[0m\u001b[1;32m    410\u001b[0m             \u001b[0m_check_write_command_response\u001b[0m\u001b[0;34m(\u001b[0m\u001b[0mresults\u001b[0m\u001b[0;34m)\u001b[0m\u001b[0;34m\u001b[0m\u001b[0m\n\u001b[1;32m    411\u001b[0m         \u001b[0;32melse\u001b[0m\u001b[0;34m:\u001b[0m\u001b[0;34m\u001b[0m\u001b[0m\n",
        "\u001b[0;31mInvalidOperation\u001b[0m: cannot do an empty bulk write"
       ]
      }
     ],
     "prompt_number": 3
    },
    {
     "cell_type": "code",
     "collapsed": false,
     "input": [],
     "language": "python",
     "metadata": {},
     "outputs": []
    }
   ],
   "metadata": {}
  }
 ]
}